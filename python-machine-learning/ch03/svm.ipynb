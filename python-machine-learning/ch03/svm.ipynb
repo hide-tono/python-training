{
 "cells": [
  {
   "cell_type": "markdown",
   "metadata": {},
   "source": [
    "SVM最適化の目的：マージンを最大化すること\n",
    "* マージン：超平面（決定境界）と、この超平面に最も近いトレーニングサンプルの間の距離\n",
    "* サポートベクトル：超平面に最も近いトレーニングサンプル\n",
    "\n",
    "### 超平面\n",
    "\n",
    "$$ w_0 + {\\boldsymbol w^Tx_{pos}} = 1 $$\n",
    "$$ w_0 + {\\boldsymbol w^Tx_{neg}} = -1 $$\n",
    "引き算して\n",
    "$$　{\\boldsymbol w^T(x_{pos} - x_{neg}}) = 2 $$\n",
    "ベクトルの長さを以下のように定義する\n",
    "$$　{\\boldsymbol ||w||} = \\sqrt{\\sum_{j=1}^m w_j^2} $$\n",
    "上2式から長さで割って標準化すると\n",
    "\n",
    "$$　\\frac{{\\boldsymbol w^T(x_{pos} - x_{neg}})}{{\\boldsymbol ||w||}} = \\frac{2}{{\\boldsymbol ||w||}} $$\n",
    "左辺は性の超平面と負の超平面の距離 -> 最大化したいマージン\n",
    "\n",
    "つまり、\\\\(　\\frac{2}{{\\boldsymbol ||w||}}  \\\\)の最大化がマージン最大化の問題である。\n",
    "\n",
    "実際は、\\\\(　\\frac{2}{{\\boldsymbol ||w||}}  \\\\)の最大化ではなく逆数の二乗\\\\(　\\frac{{\\boldsymbol ||w||}^2}{2}  \\\\)の最小化の方が簡単。二次計画法により解くことができる。"
   ]
  }
 ],
 "metadata": {
  "kernelspec": {
   "display_name": "Python 3",
   "language": "python",
   "name": "python3"
  },
  "language_info": {
   "codemirror_mode": {
    "name": "ipython",
    "version": 3
   },
   "file_extension": ".py",
   "mimetype": "text/x-python",
   "name": "python",
   "nbconvert_exporter": "python",
   "pygments_lexer": "ipython3",
   "version": "3.6.2"
  }
 },
 "nbformat": 4,
 "nbformat_minor": 2
}
