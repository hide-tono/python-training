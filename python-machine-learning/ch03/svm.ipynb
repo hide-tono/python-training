{
 "cells": [
  {
   "cell_type": "markdown",
   "metadata": {},
   "source": [
    "SVM最適化の目的：マージンを最大化すること\n",
    "* マージン：超平面（決定境界）と、この超平面に最も近いトレーニングサンプルの間の距離\n",
    "* サポートベクトル：超平面に最も近いトレーニングサンプル\n",
    "\n",
    "### 超平面\n",
    "\n",
    "$$ w_0 + {\\boldsymbol w^Tx_{pos}} = 1 $$\n",
    "$$ w_0 + {\\boldsymbol w^Tx_{neg}} = -1 $$"
   ]
  }
 ],
 "metadata": {
  "kernelspec": {
   "display_name": "Python 3",
   "language": "python",
   "name": "python3"
  },
  "language_info": {
   "codemirror_mode": {
    "name": "ipython",
    "version": 3
   },
   "file_extension": ".py",
   "mimetype": "text/x-python",
   "name": "python",
   "nbconvert_exporter": "python",
   "pygments_lexer": "ipython3",
   "version": "3.6.2"
  }
 },
 "nbformat": 4,
 "nbformat_minor": 2
}
