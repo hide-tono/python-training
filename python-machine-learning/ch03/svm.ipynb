{
 "cells": [
  {
   "cell_type": "markdown",
   "metadata": {},
   "source": [
    "SVM最適化の目的：マージンを最大化すること\n",
    "* マージン：超平面（決定境界）と、この超平面に最も近いトレーニングサンプルの間の距離\n",
    "* サポートベクトル：超平面に最も近いトレーニングサンプル\n",
    "\n",
    "### 超平面\n",
    "\n",
    "$$ w_0 + {\\boldsymbol w^Tx_{pos}} = 1 $$\n",
    "$$ w_0 + {\\boldsymbol w^Tx_{neg}} = -1 $$\n",
    "引き算して\n",
    "$$　{\\boldsymbol w^T(x_{pos} - x_{neg}}) = 2 $$\n",
    "ベクトルの長さを以下のように定義する\n",
    "$$　{\\boldsymbol ||w||} = \\sqrt{\\sum_{j=1}^m w_j^2} $$\n",
    "上2式から長さで割って標準化すると\n",
    "\n",
    "$$　\\frac{{\\boldsymbol w^T(x_{pos} - x_{neg}})}{{\\boldsymbol ||w||}} = \\frac{2}{{\\boldsymbol ||w||}} $$\n",
    "左辺は性の超平面と負の超平面の距離 -> 最大化したいマージン\n",
    "\n",
    "つまり、\\\\(　\\frac{2}{{\\boldsymbol ||w||}}  \\\\)の最大化がマージン最大化の問題である。\n",
    "\n",
    "正のサンプルはすべて正の超平面の後ろに収まる。\n",
    "$$ w_0 + {\\boldsymbol w^Tx^{(i)}} \\geq 1 (y^{(i)} = 1)$$\n",
    "負のサンプルはすべて負の超平面の側にある。\n",
    "$$ w_0 + {\\boldsymbol w^Tx^{(i)}} < -1 (y^{(i)} = -1)$$\n",
    "\n",
    "\n",
    "\n",
    "実際は、\\\\(　\\frac{2}{{\\boldsymbol ||w||}}  \\\\)の最大化ではなく逆数の二乗\\\\(　\\frac{{\\boldsymbol ||w||}^2}{2}  \\\\)の最小化の方が簡単。二次計画法により解くことができる。\n",
    "\n",
    "### スラック変数を使った非線形分離可能なケース\n",
    "$$ {\\boldsymbol w^Tx^{(i)}} \\geq 1 - \\xi^{(i)}\\; (y^{(i)} = 1)$$\n",
    "$$ {\\boldsymbol w^Tx^{(i)}} < -1 + \\xi^{(i)}\\; (y^{(i)} = -1)$$\n",
    "\n",
    "最小化すべき新しい対象は下記のとおり\n",
    "\n",
    "$$　\\frac{1}{2}{\\boldsymbol ||w||^2} = C({\\sum_{i}\\xi^{(i)}}) $$"
   ]
  },
  {
   "cell_type": "code",
   "execution_count": 3,
   "metadata": {},
   "outputs": [],
   "source": [
    "from sklearn import datasets\n",
    "import numpy as np\n",
    "from sklearn.cross_validation import train_test_split\n",
    "from sklearn.preprocessing import StandardScaler\n",
    "from sklearn.linear_model import Perceptron\n",
    "from sklearn.metrics import accuracy_score\n",
    "\n",
    "# Irisデータセットをロード\n",
    "iris = datasets.load_iris()\n",
    "# 3,4列目の特徴量を抽出\n",
    "X = iris.data[:, [2, 3]]\n",
    "# クラスラベルを取得\n",
    "y = iris.target\n",
    "# print('Class labels:', np.unique(y))\n",
    "\n",
    "# テストデータの分離\n",
    "X_train, X_test, y_train, y_test = train_test_split(X, y, test_size=0.3, random_state=0)\n",
    "\n",
    "# 特徴量のスケーリング\n",
    "sc = StandardScaler()\n",
    "# トレーニングデータの平均と標準偏差を計算\n",
    "sc.fit(X_train)\n",
    "# 平均と標準偏差を用いて標準化\n",
    "X_train_std = sc.transform(X_train)\n",
    "X_test_std = sc.transform(X_test)\n",
    "\n",
    "from sklearn.preprocessing import StandardScaler\n",
    "sc = StandardScaler()\n",
    "sc.fit(X_train)\n",
    "X_train_std = sc.transform(X_train)\n",
    "X_test_std = sc.transform(X_test)\n",
    "X_combined_std = np.vstack((X_train_std, X_test_std))\n",
    "y_combined = np.hstack((y_train, y_test))"
   ]
  },
  {
   "cell_type": "code",
   "execution_count": 6,
   "metadata": {
    "collapsed": true
   },
   "outputs": [],
   "source": [
    "\n",
    "from matplotlib.colors import ListedColormap\n",
    "import matplotlib.pyplot as plt\n",
    "import warnings\n",
    "\n",
    "\n",
    "def versiontuple(v):\n",
    "    return tuple(map(int, (v.split(\".\"))))\n",
    "\n",
    "\n",
    "def plot_decision_regions(X, y, classifier, test_idx=None, resolution=0.02):\n",
    "\n",
    "    # setup marker generator and color map\n",
    "    markers = ('s', 'x', 'o', '^', 'v')\n",
    "    colors = ('red', 'blue', 'lightgreen', 'gray', 'cyan')\n",
    "    cmap = ListedColormap(colors[:len(np.unique(y))])\n",
    "\n",
    "    # plot the decision surface\n",
    "    x1_min, x1_max = X[:, 0].min() - 1, X[:, 0].max() + 1\n",
    "    x2_min, x2_max = X[:, 1].min() - 1, X[:, 1].max() + 1\n",
    "    xx1, xx2 = np.meshgrid(np.arange(x1_min, x1_max, resolution),\n",
    "                           np.arange(x2_min, x2_max, resolution))\n",
    "    Z = classifier.predict(np.array([xx1.ravel(), xx2.ravel()]).T)\n",
    "    Z = Z.reshape(xx1.shape)\n",
    "    plt.contourf(xx1, xx2, Z, alpha=0.4, cmap=cmap)\n",
    "    plt.xlim(xx1.min(), xx1.max())\n",
    "    plt.ylim(xx2.min(), xx2.max())\n",
    "\n",
    "    for idx, cl in enumerate(np.unique(y)):\n",
    "        plt.scatter(x=X[y == cl, 0],\n",
    "                    y=X[y == cl, 1],\n",
    "                    alpha=0.6,\n",
    "                    c=cmap(idx),\n",
    "                    edgecolor='black',\n",
    "                    marker=markers[idx],\n",
    "                    label=cl)\n",
    "\n",
    "    # highlight test samples\n",
    "    if test_idx:\n",
    "        # plot all samples\n",
    "        if not versiontuple(np.__version__) >= versiontuple('1.9.0'):\n",
    "            X_test, y_test = X[list(test_idx), :], y[list(test_idx)]\n",
    "            warnings.warn('Please update to NumPy 1.9.0 or newer')\n",
    "        else:\n",
    "            X_test, y_test = X[test_idx, :], y[test_idx]\n",
    "\n",
    "        plt.scatter(X_test[:, 0],\n",
    "                    X_test[:, 1],\n",
    "                    c='',\n",
    "                    alpha=1.0,\n",
    "                    edgecolor='black',\n",
    "                    linewidths=1,\n",
    "                    marker='o',\n",
    "                    s=55, label='test set')"
   ]
  },
  {
   "cell_type": "code",
   "execution_count": 7,
   "metadata": {},
   "outputs": [
    {
     "data": {
      "image/png": "[encoded data removed]",
      "text/plain": [
       "<matplotlib.figure.Figure at 0x225d6eb37b8>"
      ]
     },
     "metadata": {},
     "output_type": "display_data"
    }
   ],
   "source": [
    "from sklearn.svm import SVC\n",
    "svm = SVC(kernel='linear', C=1.0, random_state=0)\n",
    "svm.fit(X_train_std, y_train)\n",
    "plot_decision_regions(X_combined_std, y_combined, classifier=svm, test_idx=range(105,150))\n",
    "plt.xlabel('length')\n",
    "plt.ylabel('width')\n",
    "plt.legend(loc='upper left')\n",
    "plt.show()"
   ]
  },
  {
   "cell_type": "code",
   "execution_count": null,
   "metadata": {
    "collapsed": true
   },
   "outputs": [],
   "source": []
  }
 ],
 "metadata": {
  "kernelspec": {
   "display_name": "Python 3",
   "language": "python",
   "name": "python3"
  },
  "language_info": {
   "codemirror_mode": {
    "name": "ipython",
    "version": 3
   },
   "file_extension": ".py",
   "mimetype": "text/x-python",
   "name": "python",
   "nbconvert_exporter": "python",
   "pygments_lexer": "ipython3",
   "version": "3.6.2"
  }
 },
 "nbformat": 4,
 "nbformat_minor": 2
}
