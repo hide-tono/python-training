{
 "cells": [
  {
   "cell_type": "markdown",
   "metadata": {},
   "source": [
    "### ロジット関数\n",
    "\n",
    "オッズ比の対数（対数オッズ）\n",
    "\n",
    "$$ logit(p) = log\\frac{p}{(1-p)} $$\n",
    "\n",
    "この関数を使って、特徴量の値と対数オッズの間の線形関係を表すことができる\n",
    "\n",
    "$$ logit(p(y=1|x) = w_0x_0 +  w_1x_1 + ... +  w_mx_m = \\sum_{i=0}^mw_ix_i = w^Tx  $$"
   ]
  },
  {
   "cell_type": "code",
   "execution_count": 17,
   "metadata": {
    "collapsed": false
   },
   "outputs": [
    {
     "data": {
      "image/png": "[encoded data removed]",
      "text/plain": [
       "<matplotlib.figure.Figure at 0x10b48e438>"
      ]
     },
     "metadata": {},
     "output_type": "display_data"
    }
   ],
   "source": [
    "import matplotlib.pyplot as plt\n",
    "import numpy as np\n",
    "\n",
    "\n",
    "def logit(p):\n",
    "    ones = np.ones(p.size)\n",
    "    return np.log(p / (ones - p))\n",
    "\n",
    "z = np.arange(0.0001, 0.9999, 0.0001)\n",
    "phi_z = logit(z)\n",
    "\n",
    "plt.plot(z, phi_z)\n",
    "plt.axvline(0.0, color='k')\n",
    "plt.ylim(-7, 7)\n",
    "plt.xlabel('p')\n",
    "plt.ylabel('$logit(z)$')\n",
    "\n",
    "# y axis ticks and gridline\n",
    "plt.yticks(range(-10, 10, 1))\n",
    "ax = plt.gca()\n",
    "ax.yaxis.grid(True)\n",
    "\n",
    "plt.tight_layout()\n",
    "# plt.savefig('./figures/sigmoid.png', dpi=300)\n",
    "plt.show()"
   ]
  },
  {
   "cell_type": "markdown",
   "metadata": {
    "collapsed": true
   },
   "source": [
    "### シグモイド関数\n",
    "\n",
    "ロジット関数の逆関数。\n",
    "\n",
    "$$ \\phi(z) = \\frac{1}{1+e^(-z)} $$\n",
    "\n",
    "ステップ関数とは異なり緩やかに上昇していくため、例えば結果が降水確率が0.8なら80%であるということができる。"
   ]
  },
  {
   "cell_type": "code",
   "execution_count": 16,
   "metadata": {
    "collapsed": false
   },
   "outputs": [
    {
     "data": {
      "image/png": "[encoded data removed]",
      "text/plain": [
       "<matplotlib.figure.Figure at 0x10b6f5828>"
      ]
     },
     "metadata": {},
     "output_type": "display_data"
    }
   ],
   "source": [
    "import matplotlib.pyplot as plt\n",
    "import numpy as np\n",
    "\n",
    "\n",
    "def sigmoid(z):\n",
    "    return 1.0 / (1.0 + np.exp(-z))\n",
    "\n",
    "z = np.arange(-7, 7, 0.1)\n",
    "phi_z = sigmoid(z)\n",
    "\n",
    "plt.plot(z, phi_z)\n",
    "plt.axvline(0.0, color='k')\n",
    "plt.ylim(-0.1, 1.1)\n",
    "plt.xlabel('z')\n",
    "plt.ylabel('$\\phi (z)$')\n",
    "\n",
    "# y axis ticks and gridline\n",
    "plt.yticks([0.0, 0.5, 1.0])\n",
    "ax = plt.gca()\n",
    "ax.yaxis.grid(True)\n",
    "\n",
    "plt.tight_layout()\n",
    "# plt.savefig('./figures/sigmoid.png', dpi=300)\n",
    "plt.show()"
   ]
  },
  {
   "cell_type": "markdown",
   "metadata": {},
   "source": [
    "### ロジスティック回帰の重みの学習\n",
    "\n",
    "尤度L：結果から見たところの条件のもっともらしさ\n",
    "\n",
    "$$ L(w) = P(y|x;w) = \\prod_{i=1}^nP(y^{(i)}|x^{(i)};w) = \\prod_{i=1}^n(\\phi(z^{(i)}))^{(y^{(i)})}(1-\\phi(z^{(i)}))^{1-y^{(i)}} $$\n",
    "\n",
    "\\\\( P(y|x;w) \\\\)の;wはwをパラメータに持つという意味。\n",
    "\n",
    "対数尤度l：\n",
    "* アンダーフローの可能性低下\n",
    "* 積が和に変換されるため加算を用いて微分できるようになる\n",
    "\n",
    "$$ l(w) = logL(w) = \\sum_{i=1}^n\\bigl[(y^{(i)}log(\\phi(z^{(i)})))+({1-y^{(i)})log(1-\\phi(z^{(i)}))}\\bigr] $$\n",
    "\n",
    "上記関数は勾配上昇するので、コスト関数Jとしてはマイナスにする\n",
    "\n",
    "$$ J(w) = \\sum_{i=1}^n\\bigl[(-y^{(i)}log(\\phi(z^{(i)})))-({1-y^{(i)})log(1-\\phi(z^{(i)}))}\\bigr] $$\n",
    "\n",
    "1つのサンプルで計算されるコストは、上式から\\\\( \\sum \\\\)と\\\\( (i) \\\\)を取って、\n",
    "\n",
    "$$ J(\\phi(z),y;w) = -ylog(\\phi(z))-(1-y)log(1-\\phi(z)) $$\n",
    "\n",
    "上式から、y=0であれば1つ目の項が0になりy=1であれば2つ目の項が0になる。\n",
    "\n",
    "$$ J(\\phi(z),y;w) = \\begin{cases}\n",
    "-log(\\phi(z)) & \\text (y=1)\\\\\n",
    "-log(1-\\phi(z))   & \\text (y=0)\\end{cases}$$\n"
   ]
  },
  {
   "cell_type": "code",
   "execution_count": 22,
   "metadata": {
    "collapsed": false
   },
   "outputs": [],
   "source": [
    "from sklearn import datasets\n",
    "import numpy as np\n",
    "from sklearn.cross_validation import train_test_split\n",
    "from sklearn.preprocessing import StandardScaler\n",
    "from sklearn.linear_model import Perceptron\n",
    "from sklearn.metrics import accuracy_score\n",
    "\n",
    "# Irisデータセットをロード\n",
    "iris = datasets.load_iris()\n",
    "# 3,4列目の特徴量を抽出\n",
    "X = iris.data[:, [2, 3]]\n",
    "# クラスラベルを取得\n",
    "y = iris.target\n",
    "# print('Class labels:', np.unique(y))\n",
    "\n",
    "# テストデータの分離\n",
    "X_train, X_test, y_train, y_test = train_test_split(X, y, test_size=0.3, random_state=0)\n",
    "\n",
    "# 特徴量のスケーリング\n",
    "sc = StandardScaler()\n",
    "# トレーニングデータの平均と標準偏差を計算\n",
    "sc.fit(X_train)\n",
    "# 平均と標準偏差を用いて標準化\n",
    "X_train_std = sc.transform(X_train)\n",
    "X_test_std = sc.transform(X_test)\n",
    "\n",
    "from matplotlib.colors import ListedColormap\n",
    "import matplotlib.pyplot as plt\n",
    "import warnings\n",
    "\n",
    "\n",
    "def versiontuple(v):\n",
    "    return tuple(map(int, (v.split(\".\"))))\n",
    "\n",
    "\n",
    "def plot_decision_regions(X, y, classifier, test_idx=None, resolution=0.02):\n",
    "\n",
    "    # setup marker generator and color map\n",
    "    markers = ('s', 'x', 'o', '^', 'v')\n",
    "    colors = ('red', 'blue', 'lightgreen', 'gray', 'cyan')\n",
    "    cmap = ListedColormap(colors[:len(np.unique(y))])\n",
    "\n",
    "    # plot the decision surface\n",
    "    x1_min, x1_max = X[:, 0].min() - 1, X[:, 0].max() + 1\n",
    "    x2_min, x2_max = X[:, 1].min() - 1, X[:, 1].max() + 1\n",
    "    xx1, xx2 = np.meshgrid(np.arange(x1_min, x1_max, resolution),\n",
    "                           np.arange(x2_min, x2_max, resolution))\n",
    "    Z = classifier.predict(np.array([xx1.ravel(), xx2.ravel()]).T)\n",
    "    Z = Z.reshape(xx1.shape)\n",
    "    plt.contourf(xx1, xx2, Z, alpha=0.4, cmap=cmap)\n",
    "    plt.xlim(xx1.min(), xx1.max())\n",
    "    plt.ylim(xx2.min(), xx2.max())\n",
    "\n",
    "    for idx, cl in enumerate(np.unique(y)):\n",
    "        plt.scatter(x=X[y == cl, 0],\n",
    "                    y=X[y == cl, 1],\n",
    "                    alpha=0.6,\n",
    "                    c=cmap(idx),\n",
    "                    edgecolor='black',\n",
    "                    marker=markers[idx],\n",
    "                    label=cl)\n",
    "\n",
    "    # highlight test samples\n",
    "    if test_idx:\n",
    "        # plot all samples\n",
    "        if not versiontuple(np.__version__) >= versiontuple('1.9.0'):\n",
    "            X_test, y_test = X[list(test_idx), :], y[list(test_idx)]\n",
    "            warnings.warn('Please update to NumPy 1.9.0 or newer')\n",
    "        else:\n",
    "            X_test, y_test = X[test_idx, :], y[test_idx]\n",
    "\n",
    "        plt.scatter(X_test[:, 0],\n",
    "                    X_test[:, 1],\n",
    "                    c='',\n",
    "                    alpha=1.0,\n",
    "                    edgecolor='black',\n",
    "                    linewidths=1,\n",
    "                    marker='o',\n",
    "                    s=55, label='test set')"
   ]
  },
  {
   "cell_type": "code",
   "execution_count": 25,
   "metadata": {
    "collapsed": true
   },
   "outputs": [
    {
     "data": {
      "image/png": "[encoded data removed]",
      "text/plain": [
       "<matplotlib.figure.Figure at 0x104e94eb8>"
      ]
     },
     "metadata": {},
     "output_type": "display_data"
    },
    {
     "name": "stdout",
     "output_type": "stream",
     "text": [
      "[[  2.05743774e-11   6.31620264e-02   9.36837974e-01]]\n"
     ]
    },
    {
     "name": "stderr",
     "output_type": "stream",
     "text": [
      "/Users/maeda/.pyenv/versions/anaconda3-4.3.1/lib/python3.6/site-packages/sklearn/utils/validation.py:395: DeprecationWarning: Passing 1d arrays as data is deprecated in 0.17 and will raise ValueError in 0.19. Reshape your data either using X.reshape(-1, 1) if your data has a single feature or X.reshape(1, -1) if it contains a single sample.\n  DeprecationWarning)\n"
     ]
    }
   ],
   "source": [
    "# Pythonでの実装\n",
    "from sklearn.linear_model import LogisticRegression\n",
    "# ロジスティック回帰のインスタンスを生成\n",
    "lr = LogisticRegression(C=1000.0, random_state=0)\n",
    "lr.fit(X_train_std, y_train)\n",
    "# 決定境界をプロット\n",
    "plot_decision_regions(X_combined_std, y_combined, classifier=lr, test_idx=range(105, 150))\n",
    "# ラベル設定\n",
    "plt.xlabel('petal width(標準化済み)')\n",
    "# 凡例を設定\n",
    "plt.legend(loc='upper left')\n",
    "plt.show()\n",
    "\n",
    "print(lr.predict_proba(X_test_std[0,:]))"
   ]
  },
  {
   "cell_type": "code",
   "execution_count": null,
   "metadata": {
    "collapsed": true
   },
   "outputs": [],
   "source": [
    ""
   ]
  }
 ],
 "metadata": {
  "kernelspec": {
   "display_name": "Python 3",
   "language": "python",
   "name": "python3"
  },
  "language_info": {
   "codemirror_mode": {
    "name": "ipython",
    "version": 3.0
   },
   "file_extension": ".py",
   "mimetype": "text/x-python",
   "name": "python",
   "nbconvert_exporter": "python",
   "pygments_lexer": "ipython3",
   "version": "3.6.0"
  }
 },
 "nbformat": 4,
 "nbformat_minor": 0
}