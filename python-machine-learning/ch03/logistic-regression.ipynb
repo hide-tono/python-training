{
 "cells": [
  {
   "cell_type": "markdown",
   "metadata": {},
   "source": [
    "### ロジット関数\n",
    "\n",
    "オッズ比の対数（対数オッズ）\n",
    "\n",
    "$$ logit(p) = log\\frac{p}{(1-p)} $$\n",
    "\n",
    "この関数を使って、特徴量の値と対数オッズの間の線形関係を表すことができる\n",
    "\n",
    "$$ logit(p(y=1|x) = w_0x_0 +  w_1x_1 + ... +  w_mx_m = \\sum_{i=0}^mw_ix_i = w^Tx  $$"
   ]
  },
  {
   "cell_type": "code",
   "execution_count": 17,
   "metadata": {
    "collapsed": false
   },
   "outputs": [
    {
     "data": {
      "image/png": "[encoded data removed]",
      "text/plain": [
       "<matplotlib.figure.Figure at 0x10b48e438>"
      ]
     },
     "metadata": {},
     "output_type": "display_data"
    }
   ],
   "source": [
    "import matplotlib.pyplot as plt\n",
    "import numpy as np\n",
    "\n",
    "\n",
    "def logit(p):\n",
    "    ones = np.ones(p.size)\n",
    "    return np.log(p / (ones - p))\n",
    "\n",
    "z = np.arange(0.0001, 0.9999, 0.0001)\n",
    "phi_z = logit(z)\n",
    "\n",
    "plt.plot(z, phi_z)\n",
    "plt.axvline(0.0, color='k')\n",
    "plt.ylim(-7, 7)\n",
    "plt.xlabel('p')\n",
    "plt.ylabel('$logit(z)$')\n",
    "\n",
    "# y axis ticks and gridline\n",
    "plt.yticks(range(-10, 10, 1))\n",
    "ax = plt.gca()\n",
    "ax.yaxis.grid(True)\n",
    "\n",
    "plt.tight_layout()\n",
    "# plt.savefig('./figures/sigmoid.png', dpi=300)\n",
    "plt.show()"
   ]
  },
  {
   "cell_type": "markdown",
   "metadata": {
    "collapsed": true
   },
   "source": [
    "### シグモイド関数\n",
    "\n",
    "ロジット関数の逆関数。\n",
    "\n",
    "$$ \\phi(z) = \\frac{1}{1+e^(-z)} $$\n",
    "\n",
    "ステップ関数とは異なり緩やかに上昇していくため、例えば結果が降水確率が0.8なら80%であるということができる。"
   ]
  },
  {
   "cell_type": "code",
   "execution_count": 16,
   "metadata": {
    "collapsed": false
   },
   "outputs": [
    {
     "data": {
      "image/png": "[encoded data removed]",
      "text/plain": [
       "<matplotlib.figure.Figure at 0x10b6f5828>"
      ]
     },
     "metadata": {},
     "output_type": "display_data"
    }
   ],
   "source": [
    "import matplotlib.pyplot as plt\n",
    "import numpy as np\n",
    "\n",
    "\n",
    "def sigmoid(z):\n",
    "    return 1.0 / (1.0 + np.exp(-z))\n",
    "\n",
    "z = np.arange(-7, 7, 0.1)\n",
    "phi_z = sigmoid(z)\n",
    "\n",
    "plt.plot(z, phi_z)\n",
    "plt.axvline(0.0, color='k')\n",
    "plt.ylim(-0.1, 1.1)\n",
    "plt.xlabel('z')\n",
    "plt.ylabel('$\\phi (z)$')\n",
    "\n",
    "# y axis ticks and gridline\n",
    "plt.yticks([0.0, 0.5, 1.0])\n",
    "ax = plt.gca()\n",
    "ax.yaxis.grid(True)\n",
    "\n",
    "plt.tight_layout()\n",
    "# plt.savefig('./figures/sigmoid.png', dpi=300)\n",
    "plt.show()"
   ]
  },
  {
   "cell_type": "markdown",
   "metadata": {},
   "source": [
    "### ロジスティック回帰の重みの学習\n",
    "\n",
    "尤度L：結果から見たところの条件のもっともらしさ\n",
    "\n",
    "$$ L(w) = P(y|x;w) = \\prod_{i=1}^nP(y^{(i)}|x^{(i)};w) = \\prod_{i=1}^n(\\phi(z^{(i)}))^{(y^{(i)})}(1-\\phi(z^{(i)}))^{1-y^{(i)}} $$\n",
    "\n",
    "\\\\( P(y|x;w) \\\\)の;wはwをパラメータに持つという意味。\n",
    "\n",
    "対数尤度l：\n",
    "* アンダーフローの可能性低下\n",
    "* 積が和に変換されるため加算を用いて微分できるようになる\n",
    "\n",
    "$$ l(w) = logL(w) = \\sum_{i=1}^n\\bigl[(y^{(i)}log(\\phi(z^{(i)})))+({1-y^{(i)})log(1-\\phi(z^{(i)}))}\\bigr] $$\n",
    "\n",
    "上記関数は勾配上昇するので、コスト関数Jとしてはマイナスにする\n",
    "\n",
    "$$ J(w) = \\sum_{i=1}^n\\bigl[(-y^{(i)}log(\\phi(z^{(i)})))-({1-y^{(i)})log(1-\\phi(z^{(i)}))}\\bigr] $$\n",
    "\n",
    "1つのサンプルで計算されるコストは、上式から\\\\( \\sum \\\\)と\\\\( (i) \\\\)を取って、\n",
    "\n",
    "$$ J(\\phi(z),y;w) = -ylog(\\phi(z))-(1-y)log(1-\\phi(z)) $$\n",
    "\n",
    "上式から、y=0であれば1つ目の項が0になりy=1であれば2つ目の項が0になる。\n",
    "\n",
    "$$ J(\\phi(z),y;w) = \\begin{cases}\n",
    "-log(\\phi(z)) & \\text (y=1)\\\\\n",
    "-log(1-\\phi(z))   & \\text (y=0)\\end{cases}$$\n"
   ]
  },
  {
   "cell_type": "code",
   "execution_count": null,
   "metadata": {
    "collapsed": true
   },
   "outputs": [],
   "source": []
  }
 ],
 "metadata": {
  "kernelspec": {
   "display_name": "Python 3",
   "language": "python",
   "name": "python3"
  },
  "language_info": {
   "codemirror_mode": {
    "name": "ipython",
    "version": 3
   },
   "file_extension": ".py",
   "mimetype": "text/x-python",
   "name": "python",
   "nbconvert_exporter": "python",
   "pygments_lexer": "ipython3",
   "version": "3.6.0"
  }
 },
 "nbformat": 4,
 "nbformat_minor": 0
}
