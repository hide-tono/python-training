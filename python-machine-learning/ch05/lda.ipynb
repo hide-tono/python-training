{
 "cells": [
  {
   "cell_type": "markdown",
   "metadata": {},
   "source": [
    "### 線形判別分析\n",
    "\n",
    "* クラスの分離を最適化する特徴部分空間を見つけようとする。\n",
    "* 教師ありのアルゴリズム\n",
    "\n",
    "下記が前提条件となる\n",
    "\n",
    "* データが正規分布に従っていること\n",
    "* クラスの共分散行列が全く同じであること\n",
    "* 特徴量が統計的に見て互いに独立していること\n",
    "\n",
    "#### 手順\n",
    "\n",
    "1. \\\\( d \\\\)次元のデータセットを標準化する(\\\\( d \\\\)は特徴量の個数)\n",
    "1. クラスごとに\\\\( d \\\\)次元のベクトルを計算する\n",
    "1. クラス間変動行列\\\\( S_B \\\\)とクラス内変動行列\\\\( S_W \\\\)を生成する\n",
    "1. 行列\\\\( S_W^{-1}S_B \\\\)の固有ベクトルと対応する固有値を計算する\n",
    "1. \\\\( d \\times k \\\\)次元の変換行列\\\\( {\\boldsymbol W} \\\\)を生成するために、最も大きい\\\\( k \\\\)個の固有値に対応する\\\\( k \\\\)個の固有ベクトルを選択する。固有ベクトルはこの行列の行\n",
    "1. 変換行列\\\\( {\\boldsymbol W} \\\\)を使ってサンプルを新しい特徴部分空間へ射影する。"
   ]
  },
  {
   "cell_type": "code",
   "execution_count": null,
   "metadata": {
    "collapsed": true
   },
   "outputs": [],
   "source": []
  }
 ],
 "metadata": {
  "kernelspec": {
   "display_name": "Python 3",
   "language": "python",
   "name": "python3"
  },
  "language_info": {
   "codemirror_mode": {
    "name": "ipython",
    "version": 3
   },
   "file_extension": ".py",
   "mimetype": "text/x-python",
   "name": "python",
   "nbconvert_exporter": "python",
   "pygments_lexer": "ipython3",
   "version": "3.6.2"
  }
 },
 "nbformat": 4,
 "nbformat_minor": 2
}
