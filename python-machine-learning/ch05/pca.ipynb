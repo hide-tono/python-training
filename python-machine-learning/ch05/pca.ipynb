{
 "cells": [
  {
   "cell_type": "markdown",
   "metadata": {},
   "source": [
    "## 主成分分析(PCA)による教師なし次元削減\n",
    "\n",
    "* 分散が最大となる方向を見つけ出し、元の次元と同じかそれよりも低い次元の新しい部分空間へ射影する。\n",
    "* 部分空間の直交軸（主成分）を分散が最大となる方向とみなすことができる。\n",
    "* PCAの方向はデータのスケーリングに対して敏感なため、特徴量の標準化が必要な場合がある。\n",
    "\n",
    "#### PCAのステップ\n",
    "\n",
    "1. \\\\( d \\\\)次元のデータセットを標準化\n",
    "1. 標準化したデータセットの共分散行列を作成する\n",
    "1. 共分散行列を固有ベクトルと固有値に分解する\n",
    "1. 最も大きい\\\\( k \\\\)個の固有値に対応する\\\\( k \\\\)個の固有ベクトルを選択する\n",
    "1. 上位\\\\( k \\\\)個の固有ベクトルから射影行列\\\\( {\\boldsymbol W} \\\\)を作成する\n",
    "1. 射影行列\\\\( {\\boldsymbol W} \\\\)を使って\\\\( d \\\\)次元の入力データセット\\\\( {\\boldsymbol X} \\\\)を作成し、新しい\\\\( k \\\\)次元の特徴部分空間を取得する\n",
    "\n",
    "以下ではまずscikit-learnの機能を使わずに主成分分析を行う。"
   ]
  },
  {
   "cell_type": "code",
   "execution_count": 2,
   "metadata": {},
   "outputs": [
    {
     "name": "stderr",
     "output_type": "stream",
     "text": [
      "C:\\Users\\tono\\Anaconda3\\lib\\site-packages\\sklearn\\cross_validation.py:44: DeprecationWarning: This module was deprecated in version 0.18 in favor of the model_selection module into which all the refactored classes and functions are moved. Also note that the interface of the new CV iterators are different from that of this module. This module will be removed in 0.20.\n",
      "  \"This module will be removed in 0.20.\", DeprecationWarning)\n"
     ]
    }
   ],
   "source": [
    "# データの取得と前処理（標準化）\n",
    "import pandas as pd\n",
    "df_wine = pd.read_csv('https://archive.ics.uci.edu/ml/machine-learning-databases/wine/wine.data', header=None)\n",
    "\n",
    "from sklearn.cross_validation import train_test_split\n",
    "from sklearn.preprocessing import StandardScaler\n",
    "\n",
    "X, y = df_wine.iloc[:, 1:].values, df_wine.iloc[:, 0].values\n",
    "X_train, X_test, y_train, y_test = train_test_split(X, y, test_size=0.3, random_state=0)\n",
    "sc = StandardScaler()\n",
    "X_train_std = sc.fit_transform(X_train)\n",
    "X_test_std = sc.transform(X_test)"
   ]
  },
  {
   "cell_type": "markdown",
   "metadata": {
    "collapsed": true
   },
   "source": [
    "### 共分散行列の固有対を求める\n",
    "\n",
    "特徴量のペアごとの共分散を共分散行列として保持する。\n",
    "\n",
    "共分散行列を\\\\( \\Sigma \\\\)で表す。固有ベクトル\\\\( {\\boldsymbol v} \\\\)、固有値\\\\( \\lambda \\\\)との関係は以下の通り\n",
    "\n",
    "$$ \\Sigma{\\boldsymbol v} = \\lambda{\\boldsymbol v} $$\n",
    "\n",
    "下記np.linalg.eigでWineデータセットの共分散行列の固有対を取得する。"
   ]
  },
  {
   "cell_type": "code",
   "execution_count": 3,
   "metadata": {},
   "outputs": [
    {
     "name": "stdout",
     "output_type": "stream",
     "text": [
      "[ 4.8923083   2.46635032  1.42809973  1.01233462  0.84906459  0.60181514\n",
      "  0.52251546  0.08414846  0.33051429  0.29595018  0.16831254  0.21432212\n",
      "  0.2399553 ]\n",
      "[[  1.46698114e-01  -5.04170789e-01   1.17235150e-01  -2.06254611e-01\n",
      "    1.87815947e-01   1.48851318e-01  -1.79263662e-01  -5.54687162e-02\n",
      "   -4.03054922e-01  -4.17197583e-01   2.75660860e-01   4.03567189e-01\n",
      "    4.13320786e-04]\n",
      " [ -2.42245536e-01  -2.42168894e-01  -1.49946576e-01  -1.30489298e-01\n",
      "   -5.68639776e-01   2.69052764e-01  -5.92636731e-01   3.32731614e-02\n",
      "   -1.01833706e-01   2.17101488e-01  -8.13845005e-02  -1.52474999e-01\n",
      "   -8.78560762e-02]\n",
      " [ -2.99344215e-02  -2.86984836e-01  -6.56394387e-01  -1.51536318e-02\n",
      "    2.99209426e-01   9.33386061e-02   6.07334578e-02  -1.00618575e-01\n",
      "    3.51841423e-01   1.28549846e-01  -1.29751275e-02   1.68376064e-01\n",
      "   -4.52518598e-01]\n",
      " [ -2.55190023e-01   6.46871827e-02  -5.84282337e-01   9.04220851e-02\n",
      "    4.12499478e-02   1.01342392e-01   2.50323869e-01   5.61658566e-02\n",
      "   -5.00457282e-01   4.73344124e-02   9.89088030e-02  -6.70902927e-02\n",
      "    4.86169765e-01]\n",
      " [  1.20797723e-01  -2.29953850e-01  -8.22627466e-02   8.39128346e-01\n",
      "    2.71971315e-02  -1.12567350e-01  -2.85240559e-01   9.58423947e-02\n",
      "    8.37391743e-02  -2.78918776e-01  -9.59297663e-02  -1.02396856e-01\n",
      "    1.14764951e-01]\n",
      " [  3.89344551e-01  -9.36399132e-02  -1.80804417e-01  -1.93179478e-01\n",
      "   -1.40645426e-01  -1.22248798e-02   5.31455344e-02  -4.21265116e-01\n",
      "    1.35111456e-01  -2.80985650e-01   2.83897644e-01  -6.18600153e-01\n",
      "    9.45645138e-02]\n",
      " [  4.23264856e-01  -1.08862204e-02  -1.42959330e-01  -1.40459548e-01\n",
      "   -9.26866486e-02   5.50345182e-02   7.98994076e-02   8.47224703e-01\n",
      "    3.36016514e-03  -3.91442963e-02   1.16729207e-01  -1.39680277e-01\n",
      "   -1.00444099e-01]\n",
      " [ -3.06349555e-01  -1.87021637e-02  -1.72234753e-01  -3.37332618e-01\n",
      "    8.58416771e-02  -6.95340883e-01  -2.97371718e-01   1.66256803e-01\n",
      "    1.90120758e-01  -2.78622194e-01  -3.96566280e-02   1.63323514e-03\n",
      "    2.00128778e-01]\n",
      " [  3.05722194e-01  -3.04035180e-02  -1.58362102e-01   1.14752900e-01\n",
      "   -5.65105241e-01  -4.98354410e-01   2.02519133e-01  -1.66197468e-01\n",
      "   -1.76029939e-01   1.48539457e-01   8.60602743e-02   3.88568490e-01\n",
      "   -1.39942067e-01]\n",
      " [ -9.86919131e-02  -5.45270809e-01   1.42421708e-01  -7.87857057e-02\n",
      "   -1.32346052e-02  -1.59452160e-01   3.97364107e-01   3.96173606e-02\n",
      "   -2.14930670e-01  -4.10240865e-03  -5.71651893e-01  -3.08345904e-01\n",
      "   -1.15349466e-01]\n",
      " [  3.00325353e-01   2.79243218e-01  -9.32387182e-02  -2.41740256e-02\n",
      "    3.72610811e-01  -2.16515349e-01  -3.84654748e-01  -1.05383688e-01\n",
      "   -5.17259438e-01   1.97814118e-01  -1.98844532e-01  -2.00456386e-01\n",
      "   -3.02254353e-01]\n",
      " [  3.68211538e-01   1.74365000e-01  -1.96077407e-01  -1.84028641e-01\n",
      "   -8.93796748e-02   2.35172361e-01  -8.62903341e-02  -9.95055559e-02\n",
      "    1.36456039e-01  -2.38138151e-01  -6.50869713e-01   2.84100327e-01\n",
      "    3.18414303e-01]\n",
      " [  2.92597130e-01  -3.63154608e-01   9.73171134e-02  -5.67677845e-02\n",
      "    2.17529485e-01  -1.05621383e-01  -1.30298291e-01  -1.60661776e-02\n",
      "    1.67758429e-01   6.37350206e-01   7.12377082e-02   3.75546771e-02\n",
      "    5.03247839e-01]]\n"
     ]
    }
   ],
   "source": [
    "import numpy as np\n",
    "cov_mat = np.cov(X_train_std.T)\n",
    "eigen_vals, eigen_vecs = np.linalg.eig(cov_mat)\n",
    "print(eigen_vals)\n",
    "print(eigen_vecs)"
   ]
  },
  {
   "cell_type": "markdown",
   "metadata": {},
   "source": [
    "* 上記固有ベクトルから、データに含まれる大半の情報を含んでいるもの（主成分）を選択する。\n",
    "* 固有値が固有ベクトルの大きさを表しているため、固有値の大きい順に並べ替えて判定する。"
   ]
  },
  {
   "cell_type": "code",
   "execution_count": 4,
   "metadata": {},
   "outputs": [
    {
     "data": {
      "image/png": "[encoded data removed]",
      "text/plain": [
       "<matplotlib.figure.Figure at 0x126ff39bd30>"
      ]
     },
     "metadata": {},
     "output_type": "display_data"
    }
   ],
   "source": [
    "tot = sum(eigen_vals)\n",
    "var_exp = [(i/tot) for i in sorted(eigen_vals, reverse=True)]\n",
    "cum_var_exp = np.cumsum(var_exp)\n",
    "import matplotlib.pyplot as plt\n",
    "plt.bar(range(1,14), var_exp, alpha=0.5, align='center', label='individual exp var')\n",
    "plt.step(range(1,14), cum_var_exp, where='mid', label='cum exp var')\n",
    "plt.ylabel('ex')\n",
    "plt.xlabel('prin')\n",
    "plt.legend(loc='best')\n",
    "plt.show()"
   ]
  },
  {
   "cell_type": "markdown",
   "metadata": {},
   "source": [
    "### 特徴変換\n",
    "\n",
    "* Wineデータセットを新しい主成分軸に変換する\n"
   ]
  },
  {
   "cell_type": "code",
   "execution_count": 9,
   "metadata": {},
   "outputs": [
    {
     "name": "stdout",
     "output_type": "stream",
     "text": [
      "Matrix W:\n",
      " [[ 0.14669811 -0.50417079]\n",
      " [-0.24224554 -0.24216889]\n",
      " [-0.02993442 -0.28698484]\n",
      " [-0.25519002  0.06468718]\n",
      " [ 0.12079772 -0.22995385]\n",
      " [ 0.38934455 -0.09363991]\n",
      " [ 0.42326486 -0.01088622]\n",
      " [-0.30634956 -0.01870216]\n",
      " [ 0.30572219 -0.03040352]\n",
      " [-0.09869191 -0.54527081]\n",
      " [ 0.30032535  0.27924322]\n",
      " [ 0.36821154  0.174365  ]\n",
      " [ 0.29259713 -0.36315461]]\n"
     ]
    }
   ],
   "source": [
    "# 固有値の大きいものから固有対を並び替える\n",
    "eigen_pairs = [(np.abs(eigen_vals[i]), eigen_vecs[:,i]) for i in range(len(eigen_vals))]\n",
    "eigen_pairs.sort(key=lambda k: k[0], reverse=True)\n",
    "# 最も大きい２つの固有値に対応する固有ベクトルを集める\n",
    "w = np.hstack((eigen_pairs[0][1][:, np.newaxis], eigen_pairs[1][1][:, np.newaxis]))\n",
    "print('Matrix W:\\n',w)"
   ]
  },
  {
   "cell_type": "code",
   "execution_count": 13,
   "metadata": {},
   "outputs": [
    {
     "name": "stdout",
     "output_type": "stream",
     "text": [
      "(124, 13)\n",
      "(13, 2)\n",
      "(124, 2)\n"
     ]
    }
   ],
   "source": [
    "# 124 x 13 の特徴量を124 x 2 に変換\n",
    "X_train_pca = X_train_std.dot(w)\n",
    "print(X_train_std.shape)\n",
    "print(w.shape)\n",
    "print(X_train_pca.shape)"
   ]
  },
  {
   "cell_type": "code",
   "execution_count": 16,
   "metadata": {},
   "outputs": [
    {
     "data": {
      "image/png": "[encoded data removed]",
      "text/plain": [
       "<matplotlib.figure.Figure at 0x12681811978>"
      ]
     },
     "metadata": {},
     "output_type": "display_data"
    }
   ],
   "source": [
    "colors = ['r', 'b', 'g']\n",
    "markers = ['s', 'x', 'o']\n",
    "\n",
    "for l, c, m in zip(np.unique(y_train), colors, markers):\n",
    "    plt.scatter(X_train_pca[y_train==l, 0], X_train_pca[y_train==l, 1], c=c, label=l, marker=m)\n",
    "plt.xlabel('PC 1')\n",
    "plt.xlabel('PC 2')\n",
    "plt.legend(loc='lower left')\n",
    "plt.show()"
   ]
  },
  {
   "cell_type": "code",
   "execution_count": 17,
   "metadata": {
    "collapsed": true
   },
   "outputs": [],
   "source": [
    "# scikit-learnのPCAクラスを使用した場合\n",
    "from matplotlib.colors import ListedColormap\n",
    "\n",
    "def plot_decision_regions(X, y, classifier, resolution=0.02):\n",
    "\n",
    "    # setup marker generator and color map\n",
    "    markers = ('s', 'x', 'o', '^', 'v')\n",
    "    colors = ('red', 'blue', 'lightgreen', 'gray', 'cyan')\n",
    "    cmap = ListedColormap(colors[:len(np.unique(y))])\n",
    "\n",
    "    # plot the decision surface\n",
    "    x1_min, x1_max = X[:, 0].min() - 1, X[:, 0].max() + 1\n",
    "    x2_min, x2_max = X[:, 1].min() - 1, X[:, 1].max() + 1\n",
    "    xx1, xx2 = np.meshgrid(np.arange(x1_min, x1_max, resolution),\n",
    "                           np.arange(x2_min, x2_max, resolution))\n",
    "    Z = classifier.predict(np.array([xx1.ravel(), xx2.ravel()]).T)\n",
    "    Z = Z.reshape(xx1.shape)\n",
    "    plt.contourf(xx1, xx2, Z, alpha=0.4, cmap=cmap)\n",
    "    plt.xlim(xx1.min(), xx1.max())\n",
    "    plt.ylim(xx2.min(), xx2.max())\n",
    "\n",
    "    # plot class samples\n",
    "    for idx, cl in enumerate(np.unique(y)):\n",
    "        plt.scatter(x=X[y == cl, 0], y=X[y == cl, 1],\n",
    "                    alpha=0.8, c=cmap(idx),\n",
    "                    edgecolor='black',\n",
    "                    marker=markers[idx], \n",
    "                    label=cl)"
   ]
  },
  {
   "cell_type": "code",
   "execution_count": 19,
   "metadata": {},
   "outputs": [
    {
     "data": {
      "image/png": "[encoded data removed]",
      "text/plain": [
       "<matplotlib.figure.Figure at 0x126fab1abe0>"
      ]
     },
     "metadata": {},
     "output_type": "display_data"
    }
   ],
   "source": [
    "from sklearn.linear_model import LogisticRegression\n",
    "from sklearn.decomposition import PCA\n",
    "\n",
    "# 主成分数2で初期化\n",
    "pca = PCA(n_components=2)\n",
    "lr=LogisticRegression()\n",
    "X_train_pca = pca.fit_transform(X_train_std)\n",
    "X_test_pca = pca.transform(X_test_std)\n",
    "lr.fit(X_train_pca, y_train)\n",
    "\n",
    "plot_decision_regions(X_train_pca, y_train, classifier=lr)\n",
    "plt.xlabel('PC1')\n",
    "plt.ylabel('PC2')\n",
    "plt.legend(loc='lower left')\n",
    "plt.show()"
   ]
  },
  {
   "cell_type": "code",
   "execution_count": null,
   "metadata": {
    "collapsed": true
   },
   "outputs": [],
   "source": []
  }
 ],
 "metadata": {
  "kernelspec": {
   "display_name": "Python 3",
   "language": "python",
   "name": "python3"
  },
  "language_info": {
   "codemirror_mode": {
    "name": "ipython",
    "version": 3
   },
   "file_extension": ".py",
   "mimetype": "text/x-python",
   "name": "python",
   "nbconvert_exporter": "python",
   "pygments_lexer": "ipython3",
   "version": "3.6.1"
  }
 },
 "nbformat": 4,
 "nbformat_minor": 2
}
