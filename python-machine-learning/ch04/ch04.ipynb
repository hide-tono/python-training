{
 "cells": [
  {
   "cell_type": "markdown",
   "metadata": {
    "collapsed": true
   },
   "source": [
    "### 欠測データへの対処\n",
    "\n",
    "* ほとんどの計算ツールは欠測値に対処できないか、予期せぬ動作をする。\n",
    "* 下記が欠測データの例"
   ]
  },
  {
   "cell_type": "code",
   "execution_count": 19,
   "metadata": {},
   "outputs": [
    {
     "name": "stdout",
     "output_type": "stream",
     "text": [
      "---欠測値を含むデータ---\n",
      "      A     B     C    D\n",
      "0   1.0   2.0   3.0  4.0\n",
      "1   5.0   6.0   NaN  8.0\n",
      "2  10.0  11.0  12.0  NaN\n",
      "---欠測値のカウント---\n",
      "A    0\n",
      "B    0\n",
      "C    1\n",
      "D    1\n",
      "dtype: int64\n"
     ]
    }
   ],
   "source": [
    "import pandas as pd\n",
    "from io import StringIO\n",
    "\n",
    "print('---欠測値を含むデータ---')\n",
    "csv_data = '''A,B,C,D\n",
    "1.0,2.0,3.0,4.0\n",
    "5.0,6.0,,8.0\n",
    "10.0,11.0,12.0,'''\n",
    "\n",
    "df = pd.read_csv(StringIO(csv_data))\n",
    "print(df)\n",
    "\n",
    "print('---欠測値のカウント---')\n",
    "print(df.isnull().sum())"
   ]
  },
  {
   "cell_type": "markdown",
   "metadata": {},
   "source": [
    "### 欠測値を持つサンプル、特徴量を取り除く\n",
    "\n",
    "* 下記のように欠測値をもつ行や列を削除できる。\n",
    "* 削除しすぎると有益な情報が抜けてしまう場合がある。"
   ]
  },
  {
   "cell_type": "code",
   "execution_count": 21,
   "metadata": {},
   "outputs": [
    {
     "name": "stdout",
     "output_type": "stream",
     "text": [
      "---欠測値を含む行を削除---\n",
      "     A    B    C    D\n",
      "0  1.0  2.0  3.0  4.0\n",
      "\n",
      "---欠測値を含む列を削除---\n",
      "      A     B\n",
      "0   1.0   2.0\n",
      "1   5.0   6.0\n",
      "2  10.0  11.0\n"
     ]
    }
   ],
   "source": [
    "print('---欠測値を含む行を削除---')\n",
    "print(df.dropna())\n",
    "\n",
    "print('\\n---欠測値を含む列を削除---')\n",
    "print(df.dropna(axis=1))"
   ]
  },
  {
   "cell_type": "markdown",
   "metadata": {},
   "source": [
    "### 欠測値を補完する\n",
    "\n",
    "* 欠測値を列全体と置き換える"
   ]
  },
  {
   "cell_type": "code",
   "execution_count": 30,
   "metadata": {},
   "outputs": [
    {
     "name": "stdout",
     "output_type": "stream",
     "text": [
      "列の平均値で補完\n",
      "[[  1.    2.    3.    4. ]\n",
      " [  5.    6.    7.5   8. ]\n",
      " [ 10.   11.   12.    6. ]]\n",
      "\n",
      "行の平均値で補完\n",
      "[[  1.           2.           3.           4.        ]\n",
      " [  5.           6.           6.33333333   8.        ]\n",
      " [ 10.          11.          12.          11.        ]]\n"
     ]
    }
   ],
   "source": [
    "from sklearn.preprocessing import Imputer\n",
    "# storategyはmean(平均値)の他にmedian(中央値)とmost_frequent(最頻値)が利用可能\n",
    "imr = Imputer(missing_values='NaN', strategy='mean', axis=0)\n",
    "\n",
    "imr = imr.fit(df)\n",
    "\n",
    "imputed_data = imr.transform(df.values)\n",
    "print('列の平均値で補完')\n",
    "print(imputed_data)\n",
    "\n",
    "imr = Imputer(missing_values='NaN', strategy='mean', axis=1)\n",
    "imr = imr.fit(df)\n",
    "imputed_data = imr.transform(df.values)\n",
    "print('\\n行の平均値で補完')\n",
    "print(imputed_data)"
   ]
  },
  {
   "cell_type": "markdown",
   "metadata": {},
   "source": [
    "## カテゴリデータの処理\n",
    "\n",
    "* 服のサイズ（S,M,L）などのカテゴリを表すデータのこと。\n",
    "* 名義と順序の特徴量を分ける必要がある。服のサイズは順序特徴量だが、色は名義特徴量。"
   ]
  },
  {
   "cell_type": "code",
   "execution_count": 33,
   "metadata": {},
   "outputs": [
    {
     "name": "stdout",
     "output_type": "stream",
     "text": [
      "       色 サイズ    値段     クラス\n",
      "0  green   M  10.1  class1\n",
      "1    red   L  13.5  class2\n",
      "2   blue  XL  15.3  class1\n"
     ]
    }
   ],
   "source": [
    "df = pd.DataFrame([\n",
    "    ['green', 'M', 10.1, 'class1'],\n",
    "    ['red', 'L', 13.5, 'class2'],\n",
    "    ['blue', 'XL', 15.3, 'class1'],\n",
    "])\n",
    "\n",
    "df.columns = ['色', 'サイズ', '値段', 'クラス']\n",
    "print(df)"
   ]
  }
 ],
 "metadata": {
  "kernelspec": {
   "display_name": "Python 3",
   "language": "python",
   "name": "python3"
  },
  "language_info": {
   "codemirror_mode": {
    "name": "ipython",
    "version": 3
   },
   "file_extension": ".py",
   "mimetype": "text/x-python",
   "name": "python",
   "nbconvert_exporter": "python",
   "pygments_lexer": "ipython3",
   "version": "3.6.2"
  }
 },
 "nbformat": 4,
 "nbformat_minor": 2
}
