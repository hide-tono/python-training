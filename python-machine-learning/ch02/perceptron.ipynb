{
 "cells": [
  {
   "cell_type": "markdown",
   "metadata": {},
   "source": [
    "### 用語\n",
    "\n",
    "入力値：\\\\( x \\\\)\n",
    "\n",
    "重みベクトル：\\\\( w \\\\)\n",
    "\n",
    "総入力：\\\\( z = w_1x_1 + ... + w_mx_m = w^Tx \\\\)\n",
    "\n",
    "しきい値：\\\\( \\theta \\\\)\n",
    "\n",
    "\n",
    "活性化関数(単位ステップ関数、ヘビサイド関数):\\\\( \\phi \\\\)\n",
    "\n",
    "$$ \\phi = \\begin{eqnarray}\\left\\{\\begin{array}{l}1(z\\geqq\\theta) \\\\ -1(z<\\theta)\\end{array}\\right.\\end{eqnarray} $$\n",
    "\n",
    "学習率：\\\\( \\eta \\\\)"
   ]
  },
  {
   "cell_type": "markdown",
   "metadata": {},
   "source": [
    "### パーセプトロンの学習規則\n",
    "\n",
    "1. 重みを0または値の小さい乱数で初期化\n",
    "1. トレーニングサンプル\\\\( x^{(i)} \\\\)ごとに以下の手順を実行\n",
    "\n",
    "a.出力値\\\\( \\hat{y} \\\\)を計算する\n",
    "\n",
    "b.重みを更新する\n",
    "\n",
    "#### 各重み\\\\( w_j \\\\)の更新法\n",
    "$$ w_j := w_j + \\Delta w_j $$\n",
    "\n",
    "#### \\\\( \\Delta w_j \\\\)の算出\n",
    "$$ \\Delta w_j = \\eta(y^{(i)} - \\hat{y}^{(i)})x_j^{(i)} $$\n",
    "\\\\( y^{(i)} \\\\)：本当のクラスラベル\n",
    "\n",
    "\\\\( \\hat{y}^{(i)} \\\\)：予測されたクラスラベル\n",
    "\n",
    "#### 予測が当たった場合は重みは更新されない\n",
    "\n",
    "$$ \\Delta w_j = \\eta(1 - 1)x_j^{(i)} = 0 $$\n",
    "$$ \\Delta w_j = \\eta(-1 - (-1))x_j^{(i)} = 0 $$\n",
    "\n",
    "#### 予測が当たらなかった場合は重みが更新される\n",
    "\n",
    "$$ \\Delta w_j = \\eta(-1 - 1)x_j^{(i)} = \\eta(-2)x_j^{(i)} $$\n",
    "$$ \\Delta w_j = \\eta(1 - (-1))x_j^{(i)} = \\eta(2)x_j^{(i)} $$"
   ]
  },
  {
   "cell_type": "markdown",
   "metadata": {},
   "source": [
    "#### 　\\\\( w_0 \\\\) のみ違う計算式となる\n",
    "\n",
    "$$ \\Delta w_0 = \\eta(-1 - output^{(i)}) $$\n",
    "$$ \\Delta w_1 = \\eta(1 - output^{(i)})x_1^{(i)} $$"
   ]
  },
  {
   "cell_type": "code",
   "execution_count": 45,
   "metadata": {
    "collapsed": false
   },
   "outputs": [],
   "source": [
    "import numpy as np\n",
    "\n",
    "class Perceptron(object):\n",
    "    \"\"\"\n",
    "    eta: 学習率(0.0<eta<1.0)\n",
    "    n_iter: トレーニング回数\n",
    "    \"\"\"\n",
    "    def __init__(self, eta=0.01, n_iter=10):\n",
    "        self.eta = eta\n",
    "        self.n_iter = n_iter\n",
    "        \n",
    "    def fit(self, X, y):\n",
    "        \"\"\"\n",
    "        X: トレーニングデータ（pandas, 行にサンプル、列に特徴量）\n",
    "        Y: 目的変数（pandas）\n",
    "        \"\"\"\n",
    "        self.w_ = np.zeros(1 + X.shape[1])\n",
    "        self.errors_ = []\n",
    "        \n",
    "        for ite in range(self.n_iter):\n",
    "            #print('w:', self.w_)\n",
    "            errors = 0\n",
    "            for xi, target in zip(X, y):\n",
    "                #print('xi:', xi)\n",
    "                #重みw1,...,wmの更新\n",
    "                predict = self.predict(xi)\n",
    "                update = self.eta * (target - predict)\n",
    "                #print('target:', target, ' predict:', predict, ' update:', update)\n",
    "                self.w_[1:] += update * xi\n",
    "                # 重みw0の更新\n",
    "                self.w_[0] += update\n",
    "                # 重みの更新が0でない場合は誤分類としてカウント\n",
    "                error = int(update != 0.0)\n",
    "                #print('error:', error)\n",
    "                errors += error\n",
    "            # 反復回数ごとの誤差を格納\n",
    "            print(ite, ': ', errors)\n",
    "            self.errors_.append(errors)\n",
    "        return self\n",
    "    \n",
    "    def net_input(self, X):\n",
    "        \"\"\"総入力を計算\"\"\"\n",
    "        result = np.dot(X, self.w_[1:]) + self.w_[0]\n",
    "        #print('w_', self.w_)\n",
    "        #print('net_input_result:', result)\n",
    "        return result\n",
    "    \n",
    "    def predict(self, X):\n",
    "        \"\"\"1ステップ後のクラスラベルを返す\"\"\"\n",
    "        return np.where(self.net_input(X) >= 0.0, 1, -1)"
   ]
  },
  {
   "cell_type": "code",
   "execution_count": 2,
   "metadata": {
    "collapsed": false
   },
   "outputs": [
    {
     "name": "stdout",
     "output_type": "stream",
     "text": [
      "重み更新あり 1\n",
      "重み更新なし 0\n"
     ]
    }
   ],
   "source": [
    "#  重み更新\n",
    "print('重み更新あり', int (0.5 != 0.0))\n",
    "print('重み更新なし', int (0.0 != 0.0))"
   ]
  },
  {
   "cell_type": "code",
   "execution_count": 10,
   "metadata": {
    "collapsed": false
   },
   "outputs": [
    {
     "name": "stdout",
     "output_type": "stream",
     "text": [
      "[100 200]\n",
      "(array([0, 1]),)\n",
      "[ 1  1 -1 -1 -1]\n"
     ]
    }
   ],
   "source": [
    "import numpy as np\n",
    "\n",
    "data = np.array([100, 200, 300, 400, 500])\n",
    "# 値を取得\n",
    "print(data[data < 300])\n",
    "# インデックスを取得\n",
    "print(np.where(data < 300))\n",
    "# 真の場合、偽の場合で1, -1を返す\n",
    "print(np.where(data < 300, 1, -1))"
   ]
  },
  {
   "cell_type": "code",
   "execution_count": 17,
   "metadata": {
    "collapsed": false,
    "scrolled": true
   },
   "outputs": [
    {
     "name": "stdout",
     "output_type": "stream",
     "text": [
      "       0    1    2    3               4\n",
      "145  6.7  3.0  5.2  2.3  Iris-virginica\n",
      "146  6.3  2.5  5.0  1.9  Iris-virginica\n",
      "147  6.5  3.0  5.2  2.0  Iris-virginica\n",
      "148  6.2  3.4  5.4  2.3  Iris-virginica\n",
      "149  5.9  3.0  5.1  1.8  Iris-virginica\n"
     ]
    },
    {
     "data": {
      "image/png": "[encoded data removed]",
      "text/plain": [
       "<matplotlib.figure.Figure at 0x11142e080>"
      ]
     },
     "metadata": {},
     "output_type": "display_data"
    }
   ],
   "source": [
    "import pandas as pd\n",
    "import matplotlib.pyplot as plt\n",
    "import numpy as np\n",
    "\n",
    "df = pd.read_csv('https://archive.ics.uci.edu/ml/machine-learning-databases/iris/iris.data', header=None)\n",
    "print(df.tail())\n",
    "\n",
    "y = df.iloc[0:100, 4].values\n",
    "y = np.where(y == 'Iris-setosa', -1,1)\n",
    "X = df.iloc[0:100, [0, 2]].values\n",
    "plt.scatter(X[:50,0], X[:50,1], color='red', marker='o', label='setosa')\n",
    "plt.scatter(X[50:100,0], X[50:100,1], color='blue', marker='x', label='versicolor')\n",
    "plt.xlabel('sepal length [cm]')\n",
    "plt.ylabel('sepal length [cm]')\n",
    "plt.legend(loc='upper left')\n",
    "plt.show()\n"
   ]
  },
  {
   "cell_type": "code",
   "execution_count": 50,
   "metadata": {
    "collapsed": false
   },
   "outputs": [
    {
     "name": "stdout",
     "output_type": "stream",
     "text": [
      "0 :  2\n",
      "1 :  2\n",
      "2 :  3\n",
      "3 :  2\n",
      "4 :  1\n",
      "5 :  0\n",
      "6 :  0\n",
      "7 :  0\n",
      "8 :  0\n",
      "9 :  0\n"
     ]
    },
    {
     "data": {
      "image/png": "[encoded data removed]",
      "text/plain": [
       "<matplotlib.figure.Figure at 0x111632470>"
      ]
     },
     "metadata": {},
     "output_type": "display_data"
    }
   ],
   "source": [
    "ppn = Perceptron(eta=0.1, n_iter=10)\n",
    "ppn.fit(X, y)\n",
    "plt.plot(range(1, len(ppn.errors_) + 1), ppn.errors_, marker='o')\n",
    "plt.xlabel('Epochs')\n",
    "plt.ylabel('Number of misclassifications')\n",
    "plt.show()"
   ]
  },
  {
   "cell_type": "code",
   "execution_count": 60,
   "metadata": {
    "collapsed": false
   },
   "outputs": [
    {
     "ename": "NameError",
     "evalue": "name 'ListesColormap' is not defined",
     "output_type": "error",
     "traceback": [
      "\u001b[0;31m---------------------------------------------------------------------------\u001b[0m",
      "\u001b[0;31mNameError\u001b[0m                                 Traceback (most recent call last)",
      "\u001b[0;32m<ipython-input-60-8117cdb176b0>\u001b[0m in \u001b[0;36m<module>\u001b[0;34m()\u001b[0m\n\u001b[1;32m     28\u001b[0m         \u001b[0mplt\u001b[0m\u001b[0;34m.\u001b[0m\u001b[0mscatter\u001b[0m\u001b[0;34m(\u001b[0m\u001b[0mx\u001b[0m\u001b[0;34m=\u001b[0m\u001b[0mX\u001b[0m\u001b[0;34m[\u001b[0m\u001b[0my\u001b[0m \u001b[0;34m==\u001b[0m \u001b[0mcl\u001b[0m\u001b[0;34m,\u001b[0m \u001b[0;36m0\u001b[0m\u001b[0;34m]\u001b[0m\u001b[0;34m,\u001b[0m \u001b[0my\u001b[0m\u001b[0;34m=\u001b[0m\u001b[0mX\u001b[0m\u001b[0;34m[\u001b[0m\u001b[0;34m[\u001b[0m\u001b[0my\u001b[0m\u001b[0;34m==\u001b[0m\u001b[0mcl\u001b[0m\u001b[0;34m,\u001b[0m \u001b[0;36m1\u001b[0m\u001b[0;34m]\u001b[0m\u001b[0;34m]\u001b[0m\u001b[0;34m,\u001b[0m \u001b[0malpha\u001b[0m\u001b[0;34m=\u001b[0m\u001b[0;36m0.8\u001b[0m\u001b[0;34m,\u001b[0m \u001b[0mc\u001b[0m\u001b[0;34m=\u001b[0m\u001b[0mcmap\u001b[0m\u001b[0;34m(\u001b[0m\u001b[0midx\u001b[0m\u001b[0;34m)\u001b[0m\u001b[0;34m,\u001b[0m \u001b[0mmarker\u001b[0m\u001b[0;34m=\u001b[0m\u001b[0mmarkers\u001b[0m\u001b[0;34m[\u001b[0m\u001b[0midx\u001b[0m\u001b[0;34m]\u001b[0m\u001b[0;34m,\u001b[0m\u001b[0mlabel\u001b[0m\u001b[0;34m=\u001b[0m\u001b[0mcl\u001b[0m\u001b[0;34m)\u001b[0m\u001b[0;34m\u001b[0m\u001b[0m\n\u001b[1;32m     29\u001b[0m \u001b[0;34m\u001b[0m\u001b[0m\n\u001b[0;32m---> 30\u001b[0;31m \u001b[0mplot_decision_regions\u001b[0m\u001b[0;34m(\u001b[0m\u001b[0mX\u001b[0m\u001b[0;34m,\u001b[0m \u001b[0my\u001b[0m\u001b[0;34m,\u001b[0m \u001b[0mclassifier\u001b[0m\u001b[0;34m=\u001b[0m\u001b[0mppn\u001b[0m\u001b[0;34m)\u001b[0m\u001b[0;34m\u001b[0m\u001b[0m\n\u001b[0m\u001b[1;32m     31\u001b[0m \u001b[0mplt\u001b[0m\u001b[0;34m.\u001b[0m\u001b[0mxlabel\u001b[0m\u001b[0;34m(\u001b[0m\u001b[0;34m'sepal length'\u001b[0m\u001b[0;34m)\u001b[0m\u001b[0;34m\u001b[0m\u001b[0m\n\u001b[1;32m     32\u001b[0m \u001b[0mplt\u001b[0m\u001b[0;34m.\u001b[0m\u001b[0mxlabel\u001b[0m\u001b[0;34m(\u001b[0m\u001b[0;34m'petal length'\u001b[0m\u001b[0;34m)\u001b[0m\u001b[0;34m\u001b[0m\u001b[0m\n",
      "\u001b[0;32m<ipython-input-60-8117cdb176b0>\u001b[0m in \u001b[0;36mplot_decision_regions\u001b[0;34m(X, y, classifier, resolution)\u001b[0m\n\u001b[1;32m      6\u001b[0m     \u001b[0mmarkers\u001b[0m \u001b[0;34m=\u001b[0m \u001b[0;34m(\u001b[0m\u001b[0;34m's'\u001b[0m\u001b[0;34m,\u001b[0m \u001b[0;34m'x'\u001b[0m\u001b[0;34m,\u001b[0m \u001b[0;34m'o'\u001b[0m\u001b[0;34m,\u001b[0m \u001b[0;34m'^'\u001b[0m\u001b[0;34m,\u001b[0m\u001b[0;34m'v'\u001b[0m\u001b[0;34m)\u001b[0m\u001b[0;34m\u001b[0m\u001b[0m\n\u001b[1;32m      7\u001b[0m     \u001b[0mcolors\u001b[0m \u001b[0;34m=\u001b[0m \u001b[0;34m(\u001b[0m\u001b[0;34m'red'\u001b[0m\u001b[0;34m,\u001b[0m \u001b[0;34m'blue'\u001b[0m\u001b[0;34m,\u001b[0m \u001b[0;34m'lightgreen'\u001b[0m\u001b[0;34m,\u001b[0m \u001b[0;34m'grey'\u001b[0m\u001b[0;34m,\u001b[0m \u001b[0;34m'cyan'\u001b[0m\u001b[0;34m)\u001b[0m\u001b[0;34m\u001b[0m\u001b[0m\n\u001b[0;32m----> 8\u001b[0;31m     \u001b[0mcmap\u001b[0m \u001b[0;34m=\u001b[0m \u001b[0mListesColormap\u001b[0m\u001b[0;34m(\u001b[0m\u001b[0mcolors\u001b[0m\u001b[0;34m[\u001b[0m\u001b[0;34m:\u001b[0m\u001b[0mlen\u001b[0m\u001b[0;34m(\u001b[0m\u001b[0mnp\u001b[0m\u001b[0;34m.\u001b[0m\u001b[0munique\u001b[0m\u001b[0;34m(\u001b[0m\u001b[0my\u001b[0m\u001b[0;34m)\u001b[0m\u001b[0;34m)\u001b[0m\u001b[0;34m]\u001b[0m\u001b[0;34m)\u001b[0m\u001b[0;34m\u001b[0m\u001b[0m\n\u001b[0m\u001b[1;32m      9\u001b[0m \u001b[0;34m\u001b[0m\u001b[0m\n\u001b[1;32m     10\u001b[0m     \u001b[0;31m#決定領域のプロット\u001b[0m\u001b[0;34m\u001b[0m\u001b[0;34m\u001b[0m\u001b[0m\n",
      "\u001b[0;31mNameError\u001b[0m: name 'ListesColormap' is not defined"
     ]
    }
   ],
   "source": [
    "from matplotlib.colors import ListedColormap\n",
    "\n",
    "def plot_decision_regions(X, y, classifier, resolution = 0.02):\n",
    "    \n",
    "    # マーカーとカラーマップの準備\n",
    "    markers = ('s', 'x', 'o', '^','v')\n",
    "    colors = ('red', 'blue', 'lightgreen', 'grey', 'cyan')\n",
    "    cmap = ListesColormap(colors[:len(np.unique(y))])\n",
    "    \n",
    "    #決定領域のプロット\n",
    "    #X[:, 0]とやるとPandasのdataframeから各要素の0番目を取得できる\n",
    "    x1_min, x1_max = X[:, 0].min() - 1, X[:, 0].max() + 1\n",
    "    x2_min, x2_max = X[:, 1].min() - 1, X[:, 1].max() + 1\n",
    "    #グリッドポイントの生成\n",
    "    xx1, xx2 = np.meshgrid(np.arange(x1_min, x1_max, resolution), np.arange(x2_min, x2_max, resolution))\n",
    "    #予測実行\n",
    "    z = classifier.predict(np.array([xx1.ravel(), xx2.ravel()]).T)\n",
    "    #予測結果を元のグリッドポイントのデータサイズに変換\n",
    "    Z = z.reshape(xx1.shape)\n",
    "    #グリッドポイントの等高線のプロット\n",
    "    plt.contourf(xx1,xx2,Z,alpha=0.4,cmap=cmap)\n",
    "    #軸の範囲の指定\n",
    "    plt.xlim(xx1.min(), xx1.max())\n",
    "    plt.ylim(xx2.min(), xx2.max())\n",
    "    \n",
    "    #クラスごとにサンプルをプロット\n",
    "    for idx, cl in enumerate(np.unique(y)):\n",
    "        plt.scatter(x=X[y == cl, 0], y=X[[y==cl, 1]], alpha=0.8, c=cmap(idx), marker=markers[idx],label=cl)\n",
    "        \n",
    "plot_decision_regions(X, y, classifier=ppn)\n",
    "plt.xlabel('sepal length')\n",
    "plt.xlabel('petal length')\n",
    "plt.legend(loc='upper left')\n",
    "plt.show()"
   ]
  },
  {
   "cell_type": "code",
   "execution_count": 54,
   "metadata": {
    "collapsed": false
   },
   "outputs": [
    {
     "name": "stdout",
     "output_type": "stream",
     "text": [
      "[ 3.3  4.3  5.3  6.3  7.3]\n",
      "[ 0.  1.  2.  3.  4.  5.  6.]\n",
      "[array([[ 3.3,  4.3,  5.3,  6.3,  7.3],\n",
      "       [ 3.3,  4.3,  5.3,  6.3,  7.3],\n",
      "       [ 3.3,  4.3,  5.3,  6.3,  7.3],\n",
      "       [ 3.3,  4.3,  5.3,  6.3,  7.3],\n",
      "       [ 3.3,  4.3,  5.3,  6.3,  7.3],\n",
      "       [ 3.3,  4.3,  5.3,  6.3,  7.3],\n",
      "       [ 3.3,  4.3,  5.3,  6.3,  7.3]]), array([[ 0.,  0.,  0.,  0.,  0.],\n",
      "       [ 1.,  1.,  1.,  1.,  1.],\n",
      "       [ 2.,  2.,  2.,  2.,  2.],\n",
      "       [ 3.,  3.,  3.,  3.,  3.],\n",
      "       [ 4.,  4.,  4.,  4.,  4.],\n",
      "       [ 5.,  5.,  5.,  5.,  5.],\n",
      "       [ 6.,  6.,  6.,  6.,  6.]])]\n"
     ]
    }
   ],
   "source": [
    "x1_min, x1_max = X[:, 0].min() - 1, X[:, 0].max() + 1\n",
    "x2_min, x2_max = X[:, 1].min() - 1, X[:, 1].max() + 1\n",
    "\n",
    "resolution = 1\n",
    "print(np.arange(x1_min, x1_max, resolution))\n",
    "print(np.arange(x2_min, x2_max, resolution))\n",
    "\n",
    "print(np.meshgrid(np.arange(x1_min, x1_max,resolution) , np.arange(x2_min, x2_max, resolution)))"
   ]
  },
  {
   "cell_type": "code",
   "execution_count": null,
   "metadata": {
    "collapsed": true
   },
   "outputs": [],
   "source": []
  }
 ],
 "metadata": {
  "anaconda-cloud": {},
  "kernelspec": {
   "display_name": "Python 3",
   "language": "python",
   "name": "python3"
  },
  "language_info": {
   "codemirror_mode": {
    "name": "ipython",
    "version": 3
   },
   "file_extension": ".py",
   "mimetype": "text/x-python",
   "name": "python",
   "nbconvert_exporter": "python",
   "pygments_lexer": "ipython3",
   "version": "3.6.0"
  }
 },
 "nbformat": 4,
 "nbformat_minor": 1
}
