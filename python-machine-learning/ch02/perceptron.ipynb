{
 "cells": [
  {
   "cell_type": "markdown",
   "metadata": {},
   "source": [
    "### 用語\n",
    "\n",
    "入力値：\\\\( x \\\\)\n",
    "\n",
    "重みベクトル：\\\\( w \\\\)\n",
    "\n",
    "総入力：\\\\( z = w_1x_1 + ... + w_mx_m = w^Tx \\\\)\n",
    "\n",
    "しきい値：\\\\( \\theta \\\\)\n",
    "\n",
    "\n",
    "活性化関数(単位ステップ関数、ヘビサイド関数):\\\\( \\phi \\\\)\n",
    "\n",
    "$$ \\phi = \\begin{eqnarray}\\left\\{\\begin{array}{l}1(z\\geqq\\theta) \\\\ -1(z<\\theta)\\end{array}\\right.\\end{eqnarray} $$\n",
    "\n",
    "学習率：\\\\( \\eta \\\\)"
   ]
  },
  {
   "cell_type": "markdown",
   "metadata": {},
   "source": [
    "### パーセプトロンの学習規則\n",
    "\n",
    "1. 重みを0または値の小さい乱数で初期化\n",
    "1. トレーニングサンプル\\\\( x^{(i)} \\\\)ごとに以下の手順を実行\n",
    "\n",
    "a.出力値\\\\( \\hat{y} \\\\)を計算する\n",
    "\n",
    "b.重みを更新する\n",
    "\n",
    "#### 各重み\\\\( w_j \\\\)の更新法\n",
    "$$ w_j := w_j + \\Delta w_j $$\n",
    "\n",
    "#### \\\\( \\Delta w_j \\\\)の算出\n",
    "$$ \\Delta w_j = \\eta(y^{(i)} - \\hat{y}^{(i)})x_j^{i} $$\n",
    "\\\\( y^{(i)} \\\\)：本当のクラスラベル\n",
    "\n",
    "\\\\( \\hat{y}^{(i)} \\\\)：予測されたクラスラベル\n",
    "\n",
    "#### 予測が当たった場合は重みは更新されない\n",
    "\n",
    "$$ \\Delta w_j = \\eta(1 - 1)x_j^{i} = 0 $$\n",
    "$$ \\Delta w_j = \\eta(-1 - (-1))x_j^{i} = 0 $$\n",
    "\n",
    "#### 予測が当たらなかった場合は重みが更新される\n",
    "\n",
    "$$ \\Delta w_j = \\eta(-1 - 1)x_j^{i} = \\eta(-2)x_j^{i} $$\n",
    "$$ \\Delta w_j = \\eta(1 - (-1))x_j^{i} = \\eta(2)x_j^{i} $$"
   ]
  },
  {
   "cell_type": "code",
   "execution_count": null,
   "metadata": {
    "collapsed": true
   },
   "outputs": [],
   "source": [
    "import numpy as np\n",
    "\n",
    "class Perceptron(object):\n",
    "    \"\"\"\n",
    "    eta: 学習率(0.0<eta<1.0)\n",
    "    n_iter: トレーニング回数\n",
    "    \"\"\"\n",
    "    def __init__(self, eta=0.01, n_iter=10):\n",
    "        self.eta = eta\n",
    "        self.n_iter = n_iter\n",
    "        \n",
    "    def fit(self, X, y):\n",
    "        \"\"\"\n",
    "        X: トレーニングデータ\n",
    "        Y: 目的変数\n",
    "        \"\"\"\n",
    "        self.w_ = np.zeros(1 + X.shape[1])\n",
    "        self.errors_ = []\n",
    "        \n",
    "        for _ in range(self.n_iter):\n",
    "            errors = 0\n",
    "            for xi, target in zip(X, y):\n",
    "                \n",
    "            "
   ]
  }
 ],
 "metadata": {
  "anaconda-cloud": {},
  "kernelspec": {
   "display_name": "Python [conda root]",
   "language": "python",
   "name": "conda-root-py"
  },
  "language_info": {
   "codemirror_mode": {
    "name": "ipython",
    "version": 3
   },
   "file_extension": ".py",
   "mimetype": "text/x-python",
   "name": "python",
   "nbconvert_exporter": "python",
   "pygments_lexer": "ipython3",
   "version": "3.5.2"
  }
 },
 "nbformat": 4,
 "nbformat_minor": 1
}
