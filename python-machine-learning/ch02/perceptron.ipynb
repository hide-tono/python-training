{
 "cells": [
  {
   "cell_type": "markdown",
   "metadata": {},
   "source": [
    "### 用語\n",
    "\n",
    "入力値：\\\\( x \\\\)\n",
    "\n",
    "重みベクトル：\\\\( w \\\\)\n",
    "\n",
    "総入力：\\\\( z = w_1x_1 + ... + w_mx_m = w^Tx \\\\)\n",
    "\n",
    "しきい値：\\\\( \\theta \\\\)\n",
    "\n",
    "\n",
    "活性化関数(単位ステップ関数、ヘビサイド関数):\\\\( \\phi \\\\)\n",
    "\n",
    "$$ \\phi = \\begin{eqnarray}\\left\\{\\begin{array}{l}1(z\\geqq\\theta) \\\\ -1(z<\\theta)\\end{array}\\right.\\end{eqnarray} $$\n",
    "\n",
    "学習率：\\\\( \\eta \\\\)"
   ]
  },
  {
   "cell_type": "markdown",
   "metadata": {},
   "source": [
    "### パーセプトロンの学習規則\n",
    "\n",
    "1. 重みを0または値の小さい乱数で初期化\n",
    "1. トレーニングサンプル\\\\( x^{(i)} \\\\)ごとに以下の手順を実行\n",
    "\n",
    "a.出力値\\\\( \\hat{y} \\\\)を計算する\n",
    "\n",
    "b.重みを更新する\n",
    "\n",
    "#### 各重み\\\\( w_j \\\\)の更新法\n",
    "$$ w_j := w_j + \\Delta w_j $$\n",
    "\n",
    "#### \\\\( \\Delta w_j \\\\)の算出\n",
    "$$ \\Delta w_j = \\eta(y^{(i)} - \\hat{y}^{(i)})x_j^{(i)} $$\n",
    "\\\\( y^{(i)} \\\\)：本当のクラスラベル\n",
    "\n",
    "\\\\( \\hat{y}^{(i)} \\\\)：予測されたクラスラベル\n",
    "\n",
    "#### 予測が当たった場合は重みは更新されない\n",
    "\n",
    "$$ \\Delta w_j = \\eta(1 - 1)x_j^{(i)} = 0 $$\n",
    "$$ \\Delta w_j = \\eta(-1 - (-1))x_j^{(i)} = 0 $$\n",
    "\n",
    "#### 予測が当たらなかった場合は重みが更新される\n",
    "\n",
    "$$ \\Delta w_j = \\eta(-1 - 1)x_j^{(i)} = \\eta(-2)x_j^{(i)} $$\n",
    "$$ \\Delta w_j = \\eta(1 - (-1))x_j^{(i)} = \\eta(2)x_j^{(i)} $$"
   ]
  },
  {
   "cell_type": "markdown",
   "metadata": {},
   "source": [
    "#### 　\\\\( w_0 \\\\) のみ違う計算式となる\n",
    "\n",
    "$$ \\Delta w_0 = \\eta(-1 - output^{(i)}) $$\n",
    "$$ \\Delta w_1 = \\eta(1 - output^{(i)})x_1^{(i)} $$"
   ]
  },
  {
   "cell_type": "code",
   "execution_count": 24,
   "metadata": {
    "collapsed": false
   },
   "outputs": [],
   "source": [
    "import numpy as np\n",
    "\n",
    "class Perceptron(object):\n",
    "    \"\"\"\n",
    "    eta: 学習率(0.0<eta<1.0)\n",
    "    n_iter: トレーニング回数\n",
    "    \"\"\"\n",
    "    def __init__(self, eta=0.01, n_iter=10):\n",
    "        self.eta = eta\n",
    "        self.n_iter = n_iter\n",
    "        \n",
    "    def fit(self, X, y):\n",
    "        \"\"\"\n",
    "        X: トレーニングデータ（行にサンプル、列に特徴量）\n",
    "        Y: 目的変数\n",
    "        \"\"\"\n",
    "        self.w_ = np.zeros(1 + X.shape[1])\n",
    "        self.errors_ = []\n",
    "        \n",
    "        for _ in range(self.n_iter):\n",
    "            print('w:', self.w_)\n",
    "            errors = 0\n",
    "            for xi, target in zip(X, y):\n",
    "                #重みw1,...,wmの更新\n",
    "                update = self.eta * (target - self.predict(xi))\n",
    "                self.w_[1:] += update + xi\n",
    "                # 重みw0の更新\n",
    "                self.w_[0] += update\n",
    "                # 重みの更新が0でない場合は誤分類としてカウント\n",
    "                errors += int(update != 0.0)\n",
    "            # 反復回数ごとの誤差を格納\n",
    "            self.errors_.append(errors)\n",
    "        return self\n",
    "    \n",
    "    def net_input(self, X):\n",
    "        \"\"\"総入力を計算\"\"\"\n",
    "        return np.dot(X, self.w_[1:]) + self.w_[0]\n",
    "    \n",
    "    def predict(self, X):\n",
    "        \"\"\"1ステップ後のクラスラベルを返す\"\"\"\n",
    "        return np.where(self.net_input(X) >= 0.0, 1, -1)"
   ]
  },
  {
   "cell_type": "code",
   "execution_count": 2,
   "metadata": {
    "collapsed": false
   },
   "outputs": [
    {
     "name": "stdout",
     "output_type": "stream",
     "text": [
      "重み更新あり 1\n",
      "重み更新なし 0\n"
     ]
    }
   ],
   "source": [
    "#  重み更新\n",
    "print('重み更新あり', int (0.5 != 0.0))\n",
    "print('重み更新なし', int (0.0 != 0.0))"
   ]
  },
  {
   "cell_type": "code",
   "execution_count": 3,
   "metadata": {
    "collapsed": false
   },
   "outputs": [
    {
     "name": "stdout",
     "output_type": "stream",
     "text": [
      "[100 200]\n",
      "(array([0, 1], dtype=int64),)\n",
      "[ 1  1 -1 -1 -1]\n"
     ]
    }
   ],
   "source": [
    "import numpy as np\n",
    "\n",
    "data = np.array([100, 200, 300, 400, 500])\n",
    "# 値を取得\n",
    "print(data[data < 300])\n",
    "# インデックスを取得\n",
    "print(np.where(data < 300))\n",
    "# 真の場合、偽の場合で1, -1を返す\n",
    "print(np.where(data < 300, 1, -1))"
   ]
  },
  {
   "cell_type": "code",
   "execution_count": 6,
   "metadata": {
    "collapsed": false,
    "scrolled": true
   },
   "outputs": [
    {
     "name": "stdout",
     "output_type": "stream",
     "text": [
      "       0    1    2    3               4\n",
      "145  6.7  3.0  5.2  2.3  Iris-virginica\n",
      "146  6.3  2.5  5.0  1.9  Iris-virginica\n",
      "147  6.5  3.0  5.2  2.0  Iris-virginica\n",
      "148  6.2  3.4  5.4  2.3  Iris-virginica\n",
      "149  5.9  3.0  5.1  1.8  Iris-virginica\n"
     ]
    },
    {
     "data": {
      "image/png": "[encoded data removed]",
      "text/plain": [
       "<matplotlib.figure.Figure at 0x167639ceac8>"
      ]
     },
     "metadata": {},
     "output_type": "display_data"
    }
   ],
   "source": [
    "import pandas as pd\n",
    "import matplotlib.pyplot as plt\n",
    "import numpy as np\n",
    "\n",
    "df = pd.read_csv('https://archive.ics.uci.edu/ml/machine-learning-databases/iris/iris.data', header=None)\n",
    "print(df.tail())\n",
    "\n",
    "y = df.iloc[0:100, 4].values\n",
    "y = np.where(y == 'Iris-setosa', -1,1)\n",
    "X = df.iloc[0:100, [0, 2]].values\n",
    "plt.scatter(X[:50,0], X[:50,1], color='red', marker='o', label='setosa')\n",
    "plt.scatter(X[50:100,0], X[50:100,1], color='blue', marker='x', label='versicolor')\n",
    "plt.xlabel('sepal length [cm]')\n",
    "plt.ylabel('sepal length [cm]')\n",
    "plt.legend(loc='upper left')\n",
    "plt.show()\n"
   ]
  },
  {
   "cell_type": "code",
   "execution_count": 25,
   "metadata": {
    "collapsed": false
   },
   "outputs": [
    {
     "name": "stdout",
     "output_type": "stream",
     "text": [
      "w: [ 0.  0.  0.]\n",
      "w: [ -10.   537.1  276.2]\n",
      "w: [  -20.   1074.2   552.4]\n",
      "w: [  -30.   1611.3   828.6]\n",
      "w: [  -40.   2148.4  1104.8]\n",
      "w: [  -50.   2685.5  1381. ]\n",
      "w: [  -60.   3222.6  1657.2]\n",
      "w: [  -70.   3759.7  1933.4]\n",
      "w: [  -80.   4296.8  2209.6]\n",
      "w: [  -90.   4833.9  2485.8]\n"
     ]
    },
    {
     "data": {
      "image/png": "[encoded data removed]",
      "text/plain": [
       "<matplotlib.figure.Figure at 0x16764f5b908>"
      ]
     },
     "metadata": {},
     "output_type": "display_data"
    }
   ],
   "source": [
    "ppn = Perceptron(eta=0.1, n_iter=10)\n",
    "ppn.fit(X, y)\n",
    "plt.plot(range(1, len(ppn.errors_) + 1), ppn.errors_, marker='o')\n",
    "plt.xlabel('Epochs')\n",
    "plt.ylabel('Number of misclassifications')\n",
    "plt.show()"
   ]
  },
  {
   "cell_type": "code",
   "execution_count": null,
   "metadata": {
    "collapsed": true
   },
   "outputs": [],
   "source": []
  }
 ],
 "metadata": {
  "anaconda-cloud": {},
  "kernelspec": {
   "display_name": "Python [conda root]",
   "language": "python",
   "name": "conda-root-py"
  },
  "language_info": {
   "codemirror_mode": {
    "name": "ipython",
    "version": 3
   },
   "file_extension": ".py",
   "mimetype": "text/x-python",
   "name": "python",
   "nbconvert_exporter": "python",
   "pygments_lexer": "ipython3",
   "version": "3.5.2"
  }
 },
 "nbformat": 4,
 "nbformat_minor": 1
}
