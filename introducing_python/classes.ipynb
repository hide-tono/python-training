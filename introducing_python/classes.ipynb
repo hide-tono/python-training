{
 "cells": [
  {
   "cell_type": "code",
   "execution_count": 5,
   "metadata": {
    "collapsed": false
   },
   "outputs": [
    {
     "name": "stdout",
     "output_type": "stream",
     "text": [
      "I'm a Car!\n",
      "I'm a Car!\n",
      "I'm a Yugo!\n"
     ]
    }
   ],
   "source": [
    "class Car():\n",
    "    def exclaim(self):\n",
    "        print(\"I'm a Car!\")\n",
    "        \n",
    "class Yugo(Car):\n",
    "    def exclaim(self):\n",
    "        print(\"I'm a Yugo!\")\n",
    "        \n",
    "car = Car()\n",
    "yugo = Yugo()\n",
    "\n",
    "car.exclaim()\n",
    "# 第一引数のselfはこういう使い方を省略するために存在する\n",
    "Car.exclaim(car)\n",
    "yugo.exclaim()"
   ]
  },
  {
   "cell_type": "code",
   "execution_count": 4,
   "metadata": {
    "collapsed": false
   },
   "outputs": [
    {
     "name": "stdout",
     "output_type": "stream",
     "text": [
      "getterが呼ばれました\n",
      "あひる\n",
      "setterが呼ばれました\n",
      "getterが呼ばれました\n",
      "ahiru\n"
     ]
    }
   ],
   "source": [
    "# getter, setter\n",
    "class Duck():\n",
    "    def __init__(self, input_name):\n",
    "        self.hidden_name = input_name\n",
    "    def get_name(self):\n",
    "        print('getterが呼ばれました')\n",
    "        return self.hidden_name\n",
    "    def set_name(self, input_name):\n",
    "        print('setterが呼ばれました')\n",
    "        self.hidden_name = input_name\n",
    "    name = property(get_name, set_name)\n",
    "    \n",
    "duck = Duck('あひる')\n",
    "print(duck.name)\n",
    "duck.name = 'ahiru'\n",
    "print(duck.name)"
   ]
  },
  {
   "cell_type": "code",
   "execution_count": 3,
   "metadata": {
    "collapsed": false
   },
   "outputs": [
    {
     "name": "stdout",
     "output_type": "stream",
     "text": [
      "getterが呼ばれました\n",
      "あひる\n",
      "setterが呼ばれました\n",
      "getterが呼ばれました\n",
      "ahiru\n"
     ]
    },
    {
     "ename": "AttributeError",
     "evalue": "'Duck' object has no attribute '__name'",
     "output_type": "error",
     "traceback": [
      "\u001b[0;31m---------------------------------------------------------------------------\u001b[0m",
      "\u001b[0;31mAttributeError\u001b[0m                            Traceback (most recent call last)",
      "\u001b[0;32m<ipython-input-3-b9829fe67bfa>\u001b[0m in \u001b[0;36m<module>\u001b[0;34m()\u001b[0m\n\u001b[1;32m     17\u001b[0m \u001b[0mduck\u001b[0m\u001b[1;33m.\u001b[0m\u001b[0mname\u001b[0m \u001b[1;33m=\u001b[0m \u001b[1;34m'ahiru'\u001b[0m\u001b[1;33m\u001b[0m\u001b[0m\n\u001b[1;32m     18\u001b[0m \u001b[0mprint\u001b[0m\u001b[1;33m(\u001b[0m\u001b[0mduck\u001b[0m\u001b[1;33m.\u001b[0m\u001b[0mname\u001b[0m\u001b[1;33m)\u001b[0m\u001b[1;33m\u001b[0m\u001b[0m\n\u001b[0;32m---> 19\u001b[0;31m \u001b[0mprint\u001b[0m\u001b[1;33m(\u001b[0m\u001b[0mduck\u001b[0m\u001b[1;33m.\u001b[0m\u001b[0m__name\u001b[0m\u001b[1;33m)\u001b[0m\u001b[1;33m\u001b[0m\u001b[0m\n\u001b[0m",
      "\u001b[0;31mAttributeError\u001b[0m: 'Duck' object has no attribute '__name'"
     ]
    }
   ],
   "source": [
    "# getter setterをデコレータで＋マングリング\n",
    "class Duck():\n",
    "    def __init__(self, input_name):\n",
    "        self.__name = input_name\n",
    "    @property\n",
    "    def name(self):\n",
    "        print('getterが呼ばれました')\n",
    "        return self.__name\n",
    "    @name.setter\n",
    "    def name(self, input_name):\n",
    "        print('setterが呼ばれました')\n",
    "        self.__name = input_name\n",
    "    \n",
    "        \n",
    "duck = Duck('あひる')\n",
    "print(duck.name)\n",
    "duck.name = 'ahiru'\n",
    "print(duck.name)\n",
    "print(duck.__name)"
   ]
  },
  {
   "cell_type": "code",
   "execution_count": 9,
   "metadata": {
    "collapsed": false
   },
   "outputs": [
    {
     "name": "stdout",
     "output_type": "stream",
     "text": [
      "Aは 3 個のインスタンスを持っています。\n"
     ]
    }
   ],
   "source": [
    "#クラスメソッド\n",
    "\n",
    "class A():\n",
    "    count = 0\n",
    "    def __init__(self):\n",
    "        A.count += 1\n",
    "    def exclaim(self):\n",
    "        print(\"私はAです\")\n",
    "    @classmethod\n",
    "    def kids(cls):\n",
    "        print(\"Aは\", cls.count, \"個のインスタンスを持っています。\")\n",
    "\n",
    "a1 = A()\n",
    "a2 = A()\n",
    "a3 = A()\n",
    "A.kids()"
   ]
  },
  {
   "cell_type": "code",
   "execution_count": 5,
   "metadata": {
    "collapsed": false
   },
   "outputs": [
    {
     "name": "stdout",
     "output_type": "stream",
     "text": [
      "ha\n",
      "True\n"
     ]
    },
    {
     "data": {
      "text/plain": [
       "Word(\"ha\")"
      ]
     },
     "execution_count": 5,
     "metadata": {},
     "output_type": "execute_result"
    }
   ],
   "source": [
    "class Word():\n",
    "    def __init__(self, text):\n",
    "        self.text = text\n",
    "    def __eq__(self, word2):\n",
    "        return self.text.lower() == word2.text.lower()\n",
    "    def __str__(self):\n",
    "        return self.text\n",
    "    def __repr__(self):\n",
    "        return 'Word(\"' + self.text + '\")'\n",
    "\n",
    "first = Word('ha')\n",
    "print(first) # strを使う\n",
    "second = Word('HA')\n",
    "print(first == second)\n",
    "first # reprを使う"
   ]
  },
  {
   "cell_type": "code",
   "execution_count": null,
   "metadata": {
    "collapsed": true
   },
   "outputs": [],
   "source": []
  }
 ],
 "metadata": {
  "anaconda-cloud": {},
  "kernelspec": {
   "display_name": "Python [default]",
   "language": "python",
   "name": "python3"
  },
  "language_info": {
   "codemirror_mode": {
    "name": "ipython",
    "version": 3
   },
   "file_extension": ".py",
   "mimetype": "text/x-python",
   "name": "python",
   "nbconvert_exporter": "python",
   "pygments_lexer": "ipython3",
   "version": "3.5.2"
  }
 },
 "nbformat": 4,
 "nbformat_minor": 2
}
