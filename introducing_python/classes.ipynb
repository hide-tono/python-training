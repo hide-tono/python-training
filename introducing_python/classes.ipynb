{
 "cells": [
  {
   "cell_type": "code",
   "execution_count": 5,
   "metadata": {
    "collapsed": false
   },
   "outputs": [
    {
     "name": "stdout",
     "output_type": "stream",
     "text": [
      "I'm a Car!\n",
      "I'm a Car!\n",
      "I'm a Yugo!\n"
     ]
    }
   ],
   "source": [
    "class Car():\n",
    "    def exclaim(self):\n",
    "        print(\"I'm a Car!\")\n",
    "        \n",
    "class Yugo(Car):\n",
    "    def exclaim(self):\n",
    "        print(\"I'm a Yugo!\")\n",
    "        \n",
    "car = Car()\n",
    "yugo = Yugo()\n",
    "\n",
    "car.exclaim()\n",
    "# 第一引数のselfはこういう使い方を省略するために存在する\n",
    "Car.exclaim(car)\n",
    "yugo.exclaim()"
   ]
  },
  {
   "cell_type": "code",
   "execution_count": 4,
   "metadata": {
    "collapsed": false
   },
   "outputs": [
    {
     "name": "stdout",
     "output_type": "stream",
     "text": [
      "getterが呼ばれました\n",
      "あひる\n",
      "setterが呼ばれました\n",
      "getterが呼ばれました\n",
      "ahiru\n"
     ]
    }
   ],
   "source": [
    "# getter, setter\n",
    "class Duck():\n",
    "    def __init__(self, input_name):\n",
    "        self.hidden_name = input_name\n",
    "    def get_name(self):\n",
    "        print('getterが呼ばれました')\n",
    "        return self.hidden_name\n",
    "    def set_name(self, input_name):\n",
    "        print('setterが呼ばれました')\n",
    "        self.hidden_name = input_name\n",
    "    name = property(get_name, set_name)\n",
    "    \n",
    "duck = Duck('あひる')\n",
    "print(duck.name)\n",
    "duck.name = 'ahiru'\n",
    "print(duck.name)"
   ]
  },
  {
   "cell_type": "code",
   "execution_count": 2,
   "metadata": {
    "collapsed": false
   },
   "outputs": [
    {
     "name": "stdout",
     "output_type": "stream",
     "text": [
      "getterが呼ばれました\n",
      "あひる\n",
      "setterが呼ばれました\n",
      "getterが呼ばれました\n",
      "ahiru\n"
     ]
    }
   ],
   "source": [
    "# getter setterをデコレータでで\n",
    "class Duck():\n",
    "    def __init__(self, input_name):\n",
    "        self.hidden_name = input_name\n",
    "    @property\n",
    "    def name(self):\n",
    "        print('getterが呼ばれました')\n",
    "        return self.hidden_name\n",
    "    @name.setter\n",
    "    def name(self, input_name):\n",
    "        print('setterが呼ばれました')\n",
    "        self.hidden_name = input_name\n",
    "    \n",
    "        \n",
    "duck = Duck('あひる')\n",
    "print(duck.name)\n",
    "duck.name = 'ahiru'\n",
    "print(duck.name)"
   ]
  }
 ],
 "metadata": {
  "anaconda-cloud": {},
  "kernelspec": {
   "display_name": "Python [default]",
   "language": "python",
   "name": "python3"
  },
  "language_info": {
   "codemirror_mode": {
    "name": "ipython",
    "version": 3
   },
   "file_extension": ".py",
   "mimetype": "text/x-python",
   "name": "python",
   "nbconvert_exporter": "python",
   "pygments_lexer": "ipython3",
   "version": "3.5.2"
  }
 },
 "nbformat": 4,
 "nbformat_minor": 2
}
