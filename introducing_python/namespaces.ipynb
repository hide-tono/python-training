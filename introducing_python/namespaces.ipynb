{
 "cells": [
  {
   "cell_type": "code",
   "execution_count": 2,
   "metadata": {
    "collapsed": false
   },
   "outputs": [
    {
     "name": "stdout",
     "output_type": "stream",
     "text": [
      "num is  2\n",
      "1\n",
      "globals: {'_dh': ['C:\\\\Users\\\\maeda\\\\Documents\\\\Python Scripts\\\\python-training\\\\introducing_python'], 'exit': <IPython.core.autocall.ZMQExitAutocall object at 0x0000019BF130B5C0>, 'get_ipython': <bound method InteractiveShell.get_ipython of <ipykernel.zmqshell.ZMQInteractiveShell object at 0x0000019BF12BF5C0>>, '__loader__': None, '_iii': '', '__builtins__': <module 'builtins' (built-in)>, '_oh': {}, '__builtin__': <module 'builtins' (built-in)>, 'print_num': <function print_num at 0x0000019BF13AC378>, '_i': \"# グローバル変数\\nnum = 1\\ndef print_num():\\n    num = 2\\n    print('num is ', num)\\n\\nprint_num()\\nprint(num)\", '_': '', '_ih': ['', \"# グローバル変数\\nnum = 1\\ndef print_num():\\n    num = 2\\n    print('num is ', num)\\n\\nprint_num()\\nprint(num)\", \"# グローバル変数\\nnum = 1\\ndef print_num():\\n    num = 2 #このnumは関数内のローカル変数\\n    print('num is ', num)\\n\\nprint_num()\\nprint(num)\\n\\nprint ('globals:', globals())\"], '__name__': '__main__', '_sh': <module 'IPython.core.shadowns' from 'C:\\\\Users\\\\maeda\\\\Anaconda3\\\\lib\\\\site-packages\\\\IPython\\\\core\\\\shadowns.py'>, '__package__': None, '_ii': '', 'Out': {}, 'num': 1, '_i1': \"# グローバル変数\\nnum = 1\\ndef print_num():\\n    num = 2\\n    print('num is ', num)\\n\\nprint_num()\\nprint(num)\", '__spec__': None, '___': '', 'quit': <IPython.core.autocall.ZMQExitAutocall object at 0x0000019BF130B5C0>, '_i2': \"# グローバル変数\\nnum = 1\\ndef print_num():\\n    num = 2 #このnumは関数内のローカル変数\\n    print('num is ', num)\\n\\nprint_num()\\nprint(num)\\n\\nprint ('globals:', globals())\", '__doc__': 'Automatically created module for IPython interactive environment', '__': '', 'In': ['', \"# グローバル変数\\nnum = 1\\ndef print_num():\\n    num = 2\\n    print('num is ', num)\\n\\nprint_num()\\nprint(num)\", \"# グローバル変数\\nnum = 1\\ndef print_num():\\n    num = 2 #このnumは関数内のローカル変数\\n    print('num is ', num)\\n\\nprint_num()\\nprint(num)\\n\\nprint ('globals:', globals())\"]}\n"
     ]
    }
   ],
   "source": [
    "# グローバル変数\n",
    "num = 1\n",
    "def print_num():\n",
    "    num = 2 #このnumは関数内のローカル変数\n",
    "    print('num is ', num)\n",
    "\n",
    "print_num()\n",
    "print(num)\n",
    "\n",
    "print ('globals:', globals())"
   ]
  }
 ],
 "metadata": {
  "anaconda-cloud": {},
  "kernelspec": {
   "display_name": "Python [conda root]",
   "language": "python",
   "name": "conda-root-py"
  },
  "language_info": {
   "codemirror_mode": {
    "name": "ipython",
    "version": 3
   },
   "file_extension": ".py",
   "mimetype": "text/x-python",
   "name": "python",
   "nbconvert_exporter": "python",
   "pygments_lexer": "ipython3",
   "version": "3.5.2"
  }
 },
 "nbformat": 4,
 "nbformat_minor": 1
}
