{
 "cells": [
  {
   "cell_type": "code",
   "execution_count": 1,
   "metadata": {
    "collapsed": false
   },
   "outputs": [
    {
     "name": "stdout",
     "output_type": "stream",
     "text": [
      "num is  2\n",
      "1\n"
     ]
    }
   ],
   "source": [
    "# グローバル変数\n",
    "num = 1\n",
    "def print_num():\n",
    "    num = 2 #このnumは関数内のローカル変数\n",
    "    print('num is ', num)\n",
    "\n",
    "print_num()\n",
    "print(num)\n",
    "\n",
    "print ('globals:', g)"
   ]
  }
 ],
 "metadata": {
  "anaconda-cloud": {},
  "kernelspec": {
   "display_name": "Python [conda root]",
   "language": "python",
   "name": "conda-root-py"
  },
  "language_info": {
   "codemirror_mode": {
    "name": "ipython",
    "version": 3
   },
   "file_extension": ".py",
   "mimetype": "text/x-python",
   "name": "python",
   "nbconvert_exporter": "python",
   "pygments_lexer": "ipython3",
   "version": "3.5.2"
  }
 },
 "nbformat": 4,
 "nbformat_minor": 1
}
