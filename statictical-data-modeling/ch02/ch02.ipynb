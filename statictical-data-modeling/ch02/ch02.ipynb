{
 "cells": [
  {
   "cell_type": "code",
   "execution_count": 22,
   "metadata": {
    "collapsed": false
   },
   "outputs": [
    {
     "name": "stdout",
     "output_type": "stream",
     "text": [
      "[2 2 4 6 4 5 2 3 1 2 0 4 3 3 3 3 4 2 7 2 4 3 3 3 4 3 7 5 3 1 7 6 4 6 5 2 4\n",
      " 7 2 2 6 2 4 5 4 5 1 3 2 3]\n",
      "標本数： 50\n",
      "最小値： 0\n",
      "第１四分位： 2.0\n",
      "中央値： 3.0\n",
      "平均値： 3.56\n",
      "第３四分位： 4.75\n",
      "最大値： 7\n"
     ]
    }
   ],
   "source": [
    "import pandas as pd\n",
    "import pyper as pr\n",
    "import numpy as np\n",
    "from scipy import stats\n",
    "\n",
    "r = pr.R(use_numpy='True', use_pandas='True')\n",
    "r('load(\"data.RData\")')\n",
    "data = np.array(r.get('data'))\n",
    "print(data)\n",
    "print('標本数：',len(data))\n",
    "print('最小値：', np.min(data))\n",
    "print( '第１四分位：', stats.scoreatpercentile(data, 25))\n",
    "print('中央値：', np.median(data))\n",
    "print('平均値：', np.mean(data))\n",
    "print( '第３四分位：', stats.scoreatpercentile(data, 75))\n",
    "print('最大値：', np.max(data))"
   ]
  },
  {
   "cell_type": "code",
   "execution_count": 16,
   "metadata": {
    "collapsed": false,
    "scrolled": true
   },
   "outputs": [
    {
     "data": {
      "image/png": "[encoded data removed]",
      "text/plain": [
       "<matplotlib.figure.Figure at 0x13e3e1a8b38>"
      ]
     },
     "metadata": {},
     "output_type": "display_data"
    }
   ],
   "source": [
    "import matplotlib.pyplot as plt\n",
    "\n",
    "plt.hist(data, bins=8)\n",
    "plt.show()"
   ]
  },
  {
   "cell_type": "code",
   "execution_count": 29,
   "metadata": {
    "collapsed": false
   },
   "outputs": [
    {
     "name": "stdout",
     "output_type": "stream",
     "text": [
      "標本分散(不偏分散？)： 2.98612244898\n",
      "標準偏差： 1.72804006\n"
     ]
    }
   ],
   "source": [
    "print('標本分散(不偏分散？)：', np.var(data, ddof=1))\n",
    "print('標準偏差：', np.std(data, ddof=1))"
   ]
  },
  {
   "cell_type": "code",
   "execution_count": null,
   "metadata": {
    "collapsed": true
   },
   "outputs": [],
   "source": []
  }
 ],
 "metadata": {
  "anaconda-cloud": {},
  "kernelspec": {
   "display_name": "Python [conda root]",
   "language": "python",
   "name": "conda-root-py"
  },
  "language_info": {
   "codemirror_mode": {
    "name": "ipython",
    "version": 3
   },
   "file_extension": ".py",
   "mimetype": "text/x-python",
   "name": "python",
   "nbconvert_exporter": "python",
   "pygments_lexer": "ipython3",
   "version": "3.5.2"
  }
 },
 "nbformat": 4,
 "nbformat_minor": 1
}
