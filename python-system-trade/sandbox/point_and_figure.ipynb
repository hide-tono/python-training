{
 "cells": [
  {
   "cell_type": "code",
   "execution_count": 27,
   "metadata": {
    "collapsed": true
   },
   "outputs": [],
   "source": [
    "import random\n",
    "\n",
    "import matplotlib.finance as mpf\n",
    "import matplotlib.pyplot as plt\n",
    "import pandas\n",
    "from matplotlib.dates import date2num\n",
    "\n",
    "df = pandas.read_csv('DAT_MT_EURUSD_M1_201710.csv',\n",
    "                     names=['date', 'time', 'o', 'h', 'l', 'c', 'v'],\n",
    "                     parse_dates={'datetime': ['date', 'time']},\n",
    "                     )  # type DataFrame\n",
    "df.index = df['datetime']\n",
    "df['d'] = df.index.map(date2num)"
   ]
  },
  {
   "cell_type": "code",
   "execution_count": 11,
   "metadata": {},
   "outputs": [
    {
     "data": {
      "image/png": "[encoded data removed]",
      "text/plain": [
       "<matplotlib.figure.Figure at 0x1cafc0562b0>"
      ]
     },
     "metadata": {},
     "output_type": "display_data"
    }
   ],
   "source": [
    "# df = df[-240:]\n",
    "plt.grid()\n",
    "plt.xticks(df['d'][::10], df.index[::10], rotation=45, size='small')\n",
    "ax = plt.subplot()\n",
    "# y軸のオフセット表示を無効にする。\n",
    "ax.get_yaxis().get_major_formatter().set_useOffset(False)\n",
    "data = df[['d', 'o', 'h', 'l', 'c']].values\n",
    "# print(data)\n",
    "# ローソク足は1日分の太さが1である。1日分の分足で割ってさらにその1/3の太さにする\n",
    "wdth = 1.0 / (60 * 24) / 3\n",
    "mpf.candlestick_ohlc(ax, data, width=wdth, colorup='g', colordown='r')\n",
    "plt.show()"
   ]
  },
  {
   "cell_type": "code",
   "execution_count": 35,
   "metadata": {},
   "outputs": [
    {
     "name": "stdout",
     "output_type": "stream",
     "text": [
      "[2.059999999999617, -2, 1, -1, 1, -1, 1, -1, 1, -1, 2, -1, 1, -1, 4, -1, 1, -1, 2, -1, 1, -1, 2, -1, 1, -2, 1, -1, 6, -1, 3, -1, 1, -1, 1, -1, 4, -1, 1, -1, 4, -2, 2, -1, 1, -1, 3, -1, 1, -2, 1, -1, 1, -1, 2, -1, 2, -1, 1, -1, 1, -1, 2, -1, 1, -1, 2, -1, 2, -2, 2, -1, 6, -1, 2, -1, 2, -1, 2, -1, 2, -1, 3, -1, 5, -1, 3, -1, 3, -1, 1, -1, 3, -1, 2, -1, 3, -2, 5, -1, 5, -1, 1, -1, 1, -1, 1, -1, 1, -1, 2, -1, 1, -1, 2, -1, 2, -1, 1, -1, 1, -1, 2, -1, 1, -1, 6, -1, 1, -1, 1, -1, 1, -1, 1, -1, 1, -1, 1, -1, 3, -1, 2, -1, 2, -2, 1, -1, 1, -1, 2, -1, 2, -1, 1, -1, 1, -1, 2, -1, 4, -1, 1, -1, 2, -1, 1, -1, 1, -1, 4, -1, 4, -1, 3, -1, 2, -1, 1, -1, 1, -1, 7, -1, 3, -1, 1, -1, 3, -2, 1, -2, 3, -2, 1, -1, 1, -1, 1, -1, 2]\n"
     ]
    }
   ],
   "source": [
    "import numpy as np\n",
    "from math import fabs\n",
    "\n",
    "p_and_f = []\n",
    "\n",
    "points = 0.0001\n",
    "pips = 10\n",
    "\n",
    "buffer = 0\n",
    "for idx, data in df.iterrows():\n",
    "    diff = ((data['c'] - data['o']) / (pips * points))\n",
    "    buffer += diff\n",
    "#     print(buffer)\n",
    "    if fabs(buffer) > 1:\n",
    "        if len(p_and_f) == 0:\n",
    "            p_and_f.append(int(buffer))\n",
    "        else:\n",
    "            if buffer > 0 and p_and_f[-1] > 0:\n",
    "                p_and_f[len(p_and_f) - 1] += int(buffer)\n",
    "            elif buffer < 0 and p_and_f[-1] < 0:\n",
    "                p_and_f[len(p_and_f) - 1] += int(buffer)\n",
    "            else:\n",
    "                p_and_f.append(int(buffer))\n",
    "        # 1以下は持ち越す\n",
    "        buffer = buffer % 1\n",
    "#       print(buffer)\n",
    "print(p_and_f)\n",
    "        \n",
    "        "
   ]
  },
  {
   "cell_type": "code",
   "execution_count": null,
   "metadata": {
    "collapsed": true
   },
   "outputs": [],
   "source": []
  }
 ],
 "metadata": {
  "kernelspec": {
   "display_name": "Python 3",
   "language": "python",
   "name": "python3"
  }
 },
 "nbformat": 4,
 "nbformat_minor": 2
}
