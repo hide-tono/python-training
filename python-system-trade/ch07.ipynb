{
 "cells": [
  {
   "cell_type": "code",
   "execution_count": 3,
   "metadata": {},
   "outputs": [
    {
     "name": "stdout",
     "output_type": "stream",
     "text": [
      "2.17369686757\n",
      "0.994169731135\n",
      "38\n",
      "16730\n",
      "{'1%': -2.5658736531258919, '5%': -1.9410160670068219, '10%': -1.6168041340187047}\n"
     ]
    }
   ],
   "source": [
    "%matplotlib inline\n",
    "import matplotlib.pyplot as plt\n",
    "import statsmodels.api as sm\n",
    "import pandas_datareader.data as pdr\n",
    "import numpy as np\n",
    "end='2016/9/30'\n",
    "lnn225 = np.log(pdr.DataReader('NIKKEI225', 'fred', '1949/5/16', end)).dropna()\n",
    "print(sm.tsa.adfuller(lnn225.NIKKEI225, regression='nc')[0])\n",
    "print(sm.tsa.adfuller(lnn225.NIKKEI225, regression='nc')[1])\n",
    "print(sm.tsa.adfuller(lnn225.NIKKEI225, regression='nc')[2])\n",
    "print(sm.tsa.adfuller(lnn225.NIKKEI225, regression='nc')[3])\n",
    "print(sm.tsa.adfuller(lnn225.NIKKEI225, regression='nc')[4])"
   ]
  },
  {
   "cell_type": "code",
   "execution_count": 5,
   "metadata": {},
   "outputs": [
    {
     "name": "stdout",
     "output_type": "stream",
     "text": [
      "without drift  2.64035301275e-05\n",
      "with drift  0.00159089854801 -0.000156562803399\n",
      "with drift + time trend  0.00155046216659 -0.000149176839762 -2.60661370915e-09\n"
     ]
    }
   ],
   "source": [
    "z = lnn225\n",
    "y = z.diff().dropna()\n",
    "x = z.shift(1).dropna()\n",
    "model = sm.OLS(y,x)\n",
    "results = model.fit()\n",
    "print('without drift ', results.params[0])\n",
    "x = sm.add_constant(x)\n",
    "model = sm.OLS(y, x)\n",
    "results = model.fit()\n",
    "print('with drift ', results.params[0], results.params[1])\n",
    "x['t'] = range(len(y))\n",
    "model = sm.OLS(y, x)\n",
    "results = model.fit()\n",
    "print('with drift + time trend ', results.params[0], results.params[1], results.params[2])"
   ]
  },
  {
   "cell_type": "code",
   "execution_count": 9,
   "metadata": {},
   "outputs": [
    {
     "data": {
      "text/html": [
       "<table class=\"simpletable\">\n",
       "<caption>OLS Regression Results</caption>\n",
       "<tr>\n",
       "  <th>Dep. Variable:</th>        <td>NIKKEI225</td>    <th>  R-squared:         </th>  <td>   0.000</td> \n",
       "</tr>\n",
       "<tr>\n",
       "  <th>Model:</th>                   <td>OLS</td>       <th>  Adj. R-squared:    </th>  <td>   0.000</td> \n",
       "</tr>\n",
       "<tr>\n",
       "  <th>Method:</th>             <td>Least Squares</td>  <th>  F-statistic:       </th>  <td>   2.962</td> \n",
       "</tr>\n",
       "<tr>\n",
       "  <th>Date:</th>             <td>Tue, 24 Oct 2017</td> <th>  Prob (F-statistic):</th>   <td>0.0517</td>  \n",
       "</tr>\n",
       "<tr>\n",
       "  <th>Time:</th>                 <td>21:40:35</td>     <th>  Log-Likelihood:    </th>  <td>  49854.</td> \n",
       "</tr>\n",
       "<tr>\n",
       "  <th>No. Observations:</th>      <td> 16768</td>      <th>  AIC:               </th> <td>-9.970e+04</td>\n",
       "</tr>\n",
       "<tr>\n",
       "  <th>Df Residuals:</th>          <td> 16765</td>      <th>  BIC:               </th> <td>-9.968e+04</td>\n",
       "</tr>\n",
       "<tr>\n",
       "  <th>Df Model:</th>              <td>     2</td>      <th>                     </th>      <td> </td>    \n",
       "</tr>\n",
       "<tr>\n",
       "  <th>Covariance Type:</th>      <td>nonrobust</td>    <th>                     </th>      <td> </td>    \n",
       "</tr>\n",
       "</table>\n",
       "<table class=\"simpletable\">\n",
       "<tr>\n",
       "      <td></td>         <th>coef</th>     <th>std err</th>      <th>t</th>      <th>P>|t|</th>  <th>[0.025</th>    <th>0.975]</th>  \n",
       "</tr>\n",
       "<tr>\n",
       "  <th>const</th>     <td>    0.0016</td> <td>    0.001</td> <td>    1.869</td> <td> 0.062</td> <td>-7.56e-05</td> <td>    0.003</td>\n",
       "</tr>\n",
       "<tr>\n",
       "  <th>NIKKEI225</th> <td>   -0.0001</td> <td>    0.000</td> <td>   -1.145</td> <td> 0.252</td> <td>   -0.000</td> <td>    0.000</td>\n",
       "</tr>\n",
       "<tr>\n",
       "  <th>t</th>         <td>-2.607e-09</td> <td>    4e-08</td> <td>   -0.065</td> <td> 0.948</td> <td> -8.1e-08</td> <td> 7.57e-08</td>\n",
       "</tr>\n",
       "</table>\n",
       "<table class=\"simpletable\">\n",
       "<tr>\n",
       "  <th>Omnibus:</th>       <td>3202.752</td> <th>  Durbin-Watson:     </th> <td>   1.956</td> \n",
       "</tr>\n",
       "<tr>\n",
       "  <th>Prob(Omnibus):</th>  <td> 0.000</td>  <th>  Jarque-Bera (JB):  </th> <td>67165.592</td>\n",
       "</tr>\n",
       "<tr>\n",
       "  <th>Skew:</th>           <td>-0.347</td>  <th>  Prob(JB):          </th> <td>    0.00</td> \n",
       "</tr>\n",
       "<tr>\n",
       "  <th>Kurtosis:</th>       <td>12.780</td>  <th>  Cond. No.          </th> <td>8.50e+04</td> \n",
       "</tr>\n",
       "</table>"
      ],
      "text/plain": [
       "<class 'statsmodels.iolib.summary.Summary'>\n",
       "\"\"\"\n",
       "                            OLS Regression Results                            \n",
       "==============================================================================\n",
       "Dep. Variable:              NIKKEI225   R-squared:                       0.000\n",
       "Model:                            OLS   Adj. R-squared:                  0.000\n",
       "Method:                 Least Squares   F-statistic:                     2.962\n",
       "Date:                Tue, 24 Oct 2017   Prob (F-statistic):             0.0517\n",
       "Time:                        21:40:35   Log-Likelihood:                 49854.\n",
       "No. Observations:               16768   AIC:                        -9.970e+04\n",
       "Df Residuals:                   16765   BIC:                        -9.968e+04\n",
       "Df Model:                           2                                         \n",
       "Covariance Type:            nonrobust                                         \n",
       "==============================================================================\n",
       "                 coef    std err          t      P>|t|      [0.025      0.975]\n",
       "------------------------------------------------------------------------------\n",
       "const          0.0016      0.001      1.869      0.062   -7.56e-05       0.003\n",
       "NIKKEI225     -0.0001      0.000     -1.145      0.252      -0.000       0.000\n",
       "t          -2.607e-09      4e-08     -0.065      0.948    -8.1e-08    7.57e-08\n",
       "==============================================================================\n",
       "Omnibus:                     3202.752   Durbin-Watson:                   1.956\n",
       "Prob(Omnibus):                  0.000   Jarque-Bera (JB):            67165.592\n",
       "Skew:                          -0.347   Prob(JB):                         0.00\n",
       "Kurtosis:                      12.780   Cond. No.                     8.50e+04\n",
       "==============================================================================\n",
       "\n",
       "Warnings:\n",
       "[1] Standard Errors assume that the covariance matrix of the errors is correctly specified.\n",
       "[2] The condition number is large, 8.5e+04. This might indicate that there are\n",
       "strong multicollinearity or other numerical problems.\n",
       "\"\"\""
      ]
     },
     "execution_count": 9,
     "metadata": {},
     "output_type": "execute_result"
    }
   ],
   "source": [
    "results.summary()"
   ]
  },
  {
   "cell_type": "code",
   "execution_count": 10,
   "metadata": {},
   "outputs": [
    {
     "data": {
      "text/plain": [
       "<matplotlib.text.Text at 0x284363c0278>"
      ]
     },
     "execution_count": 10,
     "metadata": {},
     "output_type": "execute_result"
    },
    {
     "data": {
      "image/png": "[encoded data removed]",
      "text/plain": [
       "<matplotlib.figure.Figure at 0x28436058f60>"
      ]
     },
     "metadata": {},
     "output_type": "display_data"
    }
   ],
   "source": [
    "lnw5000 = np.log(pdr.DataReader('WILL5000INDFC', 'fred', '1949/5/16', end)).dropna()\n",
    "lnw5000.columns=['Close']\n",
    "plt.plot(lnw5000.Close, color='hotpink')\n",
    "lnw5000['t']=range(len(lnw5000))\n",
    "model=sm.OLS(lnw5000.Close,lnw5000.t)\n",
    "results=model.fit()\n",
    "results.fittedvalues.plot(label='prediction',style='--')\n",
    "plt.ylabel('log(w5000 index)')"
   ]
  },
  {
   "cell_type": "code",
   "execution_count": 11,
   "metadata": {},
   "outputs": [
    {
     "data": {
      "text/plain": [
       "<matplotlib.text.Text at 0x284358a3fd0>"
      ]
     },
     "execution_count": 11,
     "metadata": {},
     "output_type": "execute_result"
    },
    {
     "data": {
      "image/png": "[encoded data removed]",
      "text/plain": [
       "<matplotlib.figure.Figure at 0x28435890e48>"
      ]
     },
     "metadata": {},
     "output_type": "display_data"
    }
   ],
   "source": [
    "results.resid.hist(bins=50, color='lightgreen')\n",
    "plt.ylabel('frequency')\n",
    "plt.xlabel('residual')"
   ]
  },
  {
   "cell_type": "code",
   "execution_count": null,
   "metadata": {
    "collapsed": true
   },
   "outputs": [],
   "source": []
  }
 ],
 "metadata": {
  "kernelspec": {
   "display_name": "Python 3",
   "language": "python",
   "name": "python3"
  },
  "language_info": {
   "codemirror_mode": {
    "name": "ipython",
    "version": 3
   },
   "file_extension": ".py",
   "mimetype": "text/x-python",
   "name": "python",
   "nbconvert_exporter": "python",
   "pygments_lexer": "ipython3",
   "version": "3.6.3"
  }
 },
 "nbformat": 4,
 "nbformat_minor": 2
}
