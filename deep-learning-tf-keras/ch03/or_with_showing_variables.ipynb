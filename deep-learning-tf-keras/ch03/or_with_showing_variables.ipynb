{
 "cells": [
  {
   "cell_type": "code",
   "execution_count": 1,
   "metadata": {
    "scrolled": true
   },
   "outputs": [
    {
     "name": "stdout",
     "output_type": "stream",
     "text": [
      "w: [[ 0.]\n",
      " [ 0.]]\n",
      "b: [ 0.]\n",
      "x [[ 0.  0.]\n",
      " [ 0.  1.]\n",
      " [ 1.  0.]\n",
      " [ 1.  1.]]\n",
      "t [[ 0.]\n",
      " [ 1.]\n",
      " [ 1.]\n",
      " [ 1.]]\n",
      "y [[ 0.5]\n",
      " [ 0.5]\n",
      " [ 0.5]\n",
      " [ 0.5]]\n"
     ]
    }
   ],
   "source": [
    "import numpy as np\n",
    "import tensorflow as tf\n",
    "\n",
    "# orゲートを学習するときの\n",
    "x1 = np.array([0, 0])\n",
    "x2 = np.array([1, 0])\n",
    "x3 = np.array([0, 1])\n",
    "x4 = np.array([1, 1])\n",
    "\n",
    "y1 = np.array([0])\n",
    "y2 = np.array([1])\n",
    "y3 = np.array([1])\n",
    "y4 = np.array([1])\n",
    "\n",
    "w = tf.Variable(tf.zeros([2, 1]))\n",
    "b = tf.Variable(tf.zeros([1]))\n",
    "# をtensorflowで表すと\n",
    "x = tf.placeholder(tf.float32, shape=[None, 2])\n",
    "t = tf.placeholder(tf.float32, shape=[None, 1])\n",
    "y = tf.nn.sigmoid(tf.matmul(x, w) + b)\n",
    "# (placeholderという名前はデータを格納する入れ物)を示す\n",
    "# 実際にこのplaceholderに値を入れるときは\n",
    "X = np.array([[0, 0], [0, 1], [1, 0], [1, 1]])\n",
    "Y = np.array([[0], [1], [1], [1]])\n",
    "\n",
    "init = tf.global_variables_initializer()\n",
    "sess = tf.Session()\n",
    "sess.run(init)\n",
    "\n",
    "print('w:', sess.run(w))\n",
    "print('b:', sess.run(b))\n",
    "\n",
    "# x,t,yはあとから値を入れるplaceholderなので、\n",
    "# 中身を確認するときはfeed_dictで値を入れる\n",
    "print('x', sess.run(x, feed_dict={\n",
    "    x: X\n",
    "}))\n",
    "print('t', sess.run(t, feed_dict={\n",
    "    t: Y\n",
    "}))\n",
    "print('y',  sess.run(y, feed_dict={\n",
    "    x: X,\n",
    "    t: Y\n",
    "}))"
   ]
  },
  {
   "cell_type": "code",
   "execution_count": 3,
   "metadata": {},
   "outputs": [
    {
     "name": "stdout",
     "output_type": "stream",
     "text": [
      "10回回す\n",
      "w: [[ 0.98534852]\n",
      " [ 0.98534852]]\n",
      "b: [ 0.39265046]\n",
      "y [[ 0.59692061]\n",
      " [ 0.79866946]\n",
      " [ 0.79866946]\n",
      " [ 0.91398937]]\n"
     ]
    }
   ],
   "source": [
    "cross_entropy = - tf.reduce_sum(t * tf.log(y) + (1 - t) * tf.log(1 - y))\n",
    "train_step = tf.train.GradientDescentOptimizer(0.1).minimize(cross_entropy)\n",
    "\n",
    "# 実際に訓練を回して重みとバイアスの変化、nnの出力内容変化を確認\n",
    "\n",
    "for epoch in range(10):\n",
    "    sess.run(train_step, feed_dict={\n",
    "        x: X,\n",
    "        t: Y\n",
    "    })\n",
    "\n",
    "print('10回回す')\n",
    "print('w:', sess.run(w))\n",
    "print('b:', sess.run(b))\n",
    "print('y',  sess.run(y, feed_dict={\n",
    "    x: X,\n",
    "    t: Y\n",
    "}))"
   ]
  },
  {
   "cell_type": "code",
   "execution_count": 5,
   "metadata": {},
   "outputs": [
    {
     "name": "stdout",
     "output_type": "stream",
     "text": [
      "100回回す\n",
      "w: [[ 2.77059865]\n",
      " [ 2.77059865]]\n",
      "b: [-0.75326324]\n",
      "y [[ 0.32011068]\n",
      " [ 0.8826052 ]\n",
      " [ 0.8826052 ]\n",
      " [ 0.99173915]]\n"
     ]
    }
   ],
   "source": [
    "for epoch in range(100):\n",
    "    sess.run(train_step, feed_dict={\n",
    "        x: X,\n",
    "        t: Y\n",
    "    })\n",
    "\n",
    "print('100回回す')\n",
    "print('w:', sess.run(w))\n",
    "print('b:', sess.run(b))\n",
    "print('y',  sess.run(y, feed_dict={\n",
    "    x: X,\n",
    "    t: Y\n",
    "}))"
   ]
  },
  {
   "cell_type": "code",
   "execution_count": 7,
   "metadata": {},
   "outputs": [
    {
     "name": "stdout",
     "output_type": "stream",
     "text": [
      "1000回回す\n",
      "w: [[ 8.32319641]\n",
      " [ 8.32319641]]\n",
      "b: [-3.69512796]\n",
      "y [[ 0.024242  ]\n",
      " [ 0.99032098]\n",
      " [ 0.99032098]\n",
      " [ 0.99999762]]\n"
     ]
    }
   ],
   "source": [
    "for epoch in range(1000):\n",
    "    sess.run(train_step, feed_dict={\n",
    "        x: X,\n",
    "        t: Y\n",
    "    })\n",
    "\n",
    "print('1000回回す')\n",
    "print('w:', sess.run(w))\n",
    "print('b:', sess.run(b))\n",
    "print('y',  sess.run(y, feed_dict={\n",
    "    x: X,\n",
    "    t: Y\n",
    "}))"
   ]
  }
 ],
 "metadata": {
  "kernelspec": {
   "display_name": "Python 3",
   "language": "python",
   "name": "python3"
  },
  "language_info": {
   "codemirror_mode": {
    "name": "ipython",
    "version": 3
   },
   "file_extension": ".py",
   "mimetype": "text/x-python",
   "name": "python",
   "nbconvert_exporter": "python",
   "pygments_lexer": "ipython3",
   "version": "3.6.1"
  }
 },
 "nbformat": 4,
 "nbformat_minor": 2
}
