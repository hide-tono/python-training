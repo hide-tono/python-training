{
 "cells": [
  {
   "cell_type": "code",
   "execution_count": 7,
   "metadata": {
    "collapsed": false
   },
   "outputs": [
    {
     "name": "stdout",
     "output_type": "stream",
     "text": [
      "位置引数： ()\n",
      "位置引数： (1, 2, 3, 'テスト')\n",
      "辞書引数： {'key2': '値2', 'キー3': '値3', 'key1': '値1'}\n",
      "渡された引数は'テスト1'です\n",
      "渡された引数は'テスト2'です\n"
     ]
    }
   ],
   "source": [
    "# *による位置引数のタプル化\n",
    "def show_args(*args):\n",
    "    print('位置引数：', args)\n",
    "\n",
    "show_args()\n",
    "show_args(1,2,3,'テスト')\n",
    "\n",
    "# **によるキーワード引数の辞書化\n",
    "def show_kwargs(**kwargs):\n",
    "    print('辞書引数：', kwargs)\n",
    "    \n",
    "show_kwargs(key1='値1', key2='値2', キー3='値3')"
   ]
  },
  {
   "cell_type": "code",
   "execution_count": 8,
   "metadata": {
    "collapsed": false
   },
   "outputs": [
    {
     "name": "stdout",
     "output_type": "stream",
     "text": [
      "渡された引数は'テスト1'です\n",
      "渡された引数は'テスト2'です\n"
     ]
    }
   ],
   "source": [
    "# クロージャ\n",
    "def return_closure(arg):\n",
    "    def closure_function():\n",
    "        return \"渡された引数は'%s'です\" % arg\n",
    "    return closure_function\n",
    "\n",
    "a = return_closure('テスト1')\n",
    "b = return_closure('テスト2')\n",
    "\n",
    "print(a())\n",
    "print(b())"
   ]
  },
  {
   "cell_type": "code",
   "execution_count": 11,
   "metadata": {
    "collapsed": false
   },
   "outputs": [
    {
     "name": "stdout",
     "output_type": "stream",
     "text": [
      "1\n",
      "2\n",
      "3\n",
      "4\n"
     ]
    }
   ],
   "source": [
    "# ジェネレータ\n",
    "\n",
    "def generator_range(first=0, last=10, step=1):\n",
    "    number=first\n",
    "    while number < last:\n",
    "        yield number\n",
    "        number+=step\n",
    "\n",
    "ranger = generator_range(1,5)\n",
    "for x in ranger:\n",
    "    print(x)"
   ]
  }
 ],
 "metadata": {
  "kernelspec": {
   "display_name": "Python [conda root]",
   "language": "python",
   "name": "conda-root-py"
  },
  "language_info": {
   "codemirror_mode": {
    "name": "ipython",
    "version": 3
   },
   "file_extension": ".py",
   "mimetype": "text/x-python",
   "name": "python",
   "nbconvert_exporter": "python",
   "pygments_lexer": "ipython3",
   "version": "3.5.2"
  }
 },
 "nbformat": 4,
 "nbformat_minor": 1
}
