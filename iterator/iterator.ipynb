{
 "cells": [
  {
   "cell_type": "code",
   "execution_count": 13,
   "metadata": {
    "collapsed": false
   },
   "outputs": [
    {
     "name": "stdout",
     "output_type": "stream",
     "text": [
      "[1, 2, 3, 4, 5, 6, 7, 8, 9, 10]\n",
      "[2, 3, 4, 5, 6, 7, 8, 9, 10, 11]\n",
      "{'E', 'A'}\n",
      "{'e': 4, 'a': 4}\n"
     ]
    }
   ],
   "source": [
    "# リスト内包表記の基本([]で囲う)\n",
    "list = [a for a in range(1,11)]\n",
    "print(list)\n",
    "# 最初のaがlistに入れる式であることを確認する\n",
    "list = [a+1 for a in range(1,11)]\n",
    "print(list)\n",
    "\n",
    "# 集合内包表記({}で囲う)\n",
    "sentence = 'AAAAAAAAAAAAAEEEEEEEEEEEE'\n",
    "char_set = {char for char in set(sentence)}\n",
    "print(char_set)\n",
    "\n",
    "# 辞書内包表記({}で囲い、式部分がkey: valueになっている)\n",
    "sentence = 'how many e and a are here?'\n",
    "count = {char: sentence.count(char) for char in set(sentence) if char == 'a' or char == 'e'}\n",
    "print(count)\n"
   ]
  },
  {
   "cell_type": "code",
   "execution_count": 4,
   "metadata": {
    "collapsed": false
   },
   "outputs": [
    {
     "name": "stdout",
     "output_type": "stream",
     "text": [
      "1 / Jan\n",
      "2 / Feb\n",
      "3 / Mar\n"
     ]
    }
   ],
   "source": [
    "#zipの利用\n",
    "months = ['Jan', 'Feb', 'Mar']\n",
    "days = ['1', '2', '3', '4'] # monthsが3つなので4は無視される\n",
    "for month, day in zip (months, days):\n",
    "    print(day, \"/\", month)"
   ]
  }
 ],
 "metadata": {
  "anaconda-cloud": {},
  "kernelspec": {
   "display_name": "Python [conda root]",
   "language": "python",
   "name": "conda-root-py"
  },
  "language_info": {
   "codemirror_mode": {
    "name": "ipython",
    "version": 3
   },
   "file_extension": ".py",
   "mimetype": "text/x-python",
   "name": "python",
   "nbconvert_exporter": "python",
   "pygments_lexer": "ipython3",
   "version": "3.5.2"
  }
 },
 "nbformat": 4,
 "nbformat_minor": 1
}
